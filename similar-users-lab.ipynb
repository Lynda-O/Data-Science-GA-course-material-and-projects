{
 "cells": [
  {
   "cell_type": "markdown",
   "metadata": {},
   "source": [
    "<img src=\"http://imgur.com/1ZcRyrc.png\" style=\"float: left; margin: 20px; height: 55px\">\n",
    "\n",
    "# Similar Users and Recommender Systems \n",
    "\n",
    "_Authors: Dave Yerrington (SF)_\n",
    "\n",
    "---\n",
    "\n",
    "\n",
    "## Preface: working with sets\n",
    "\n",
    "In mathematics, a set is a collection of distinct objects.  In Python, \"Sets\" are lists with no duplicate entries. Set objects also support mathematical operations like union, intersection, difference, and symmetric difference.\n",
    "\n",
    "> _Fun fact for your next party:  Techincally, Python sets are implemented using dictionaries (under the hood)._\n",
    "\n",
    "**Here are two sets of colors:**"
   ]
  },
  {
   "cell_type": "code",
   "execution_count": null,
   "metadata": {
    "collapsed": true
   },
   "outputs": [],
   "source": [
    "a = set([\"Red\", \"Green\", \"Blue\"])\n",
    "b = set([\"Black\", \"White\", \"Green\"])"
   ]
  },
  {
   "cell_type": "markdown",
   "metadata": {},
   "source": [
    "To find out which items are in both sets (**both sets only**), use the \"intersection\" method:"
   ]
  },
  {
   "cell_type": "code",
   "execution_count": null,
   "metadata": {
    "collapsed": false
   },
   "outputs": [],
   "source": [
    "a.intersection(b)"
   ]
  },
  {
   "cell_type": "markdown",
   "metadata": {},
   "source": [
    "To find the items in a, but not b."
   ]
  },
  {
   "cell_type": "code",
   "execution_count": null,
   "metadata": {
    "collapsed": false
   },
   "outputs": [],
   "source": [
    "a.difference(b)"
   ]
  },
  {
   "cell_type": "markdown",
   "metadata": {},
   "source": [
    "To find the items in b, but not a."
   ]
  },
  {
   "cell_type": "code",
   "execution_count": null,
   "metadata": {
    "collapsed": false
   },
   "outputs": [],
   "source": [
    "b.difference(a)"
   ]
  },
  {
   "cell_type": "markdown",
   "metadata": {},
   "source": [
    "To find a list of all unique sets (aka: union):"
   ]
  },
  {
   "cell_type": "code",
   "execution_count": null,
   "metadata": {
    "collapsed": false
   },
   "outputs": [],
   "source": [
    "set(list(a) + list(b))"
   ]
  },
  {
   "cell_type": "code",
   "execution_count": null,
   "metadata": {
    "collapsed": false
   },
   "outputs": [],
   "source": [
    "a.union(b)"
   ]
  },
  {
   "cell_type": "markdown",
   "metadata": {},
   "source": [
    "How many are different?"
   ]
  },
  {
   "cell_type": "code",
   "execution_count": null,
   "metadata": {
    "collapsed": false
   },
   "outputs": [],
   "source": [
    "print(\"Number of different items in b:  %d\" % len(b.difference(a)))"
   ]
  },
  {
   "cell_type": "markdown",
   "metadata": {},
   "source": [
    "## From sets to lists\n",
    "---\n",
    "\n",
    "Now that we're experts on Python sets, let's get savvy working with lists and unstructured data.\n",
    "\n",
    "Using the `split()` method on a string, we can \"split\" it by a delimiter, to be used as a list.  By default, the `.split()` method can be applied to any string object, and will automatically split on spaces.  \n",
    "\n",
    "> *Note: You can pass a parameter to split to change which character it will split on, such as \",\", if you're trying to turn a comma seprated list of items into a list.*\n",
    "\n",
    "The following will turn a space delimited *string* into a **list**."
   ]
  },
  {
   "cell_type": "code",
   "execution_count": null,
   "metadata": {
    "collapsed": false
   },
   "outputs": [],
   "source": [
    "\"my name is dave my name is dave my name is dave\".split()"
   ]
  },
  {
   "cell_type": "markdown",
   "metadata": {},
   "source": [
    "If we had many values, it would be hard to know which of them are unique.  That's when we use sets."
   ]
  },
  {
   "cell_type": "code",
   "execution_count": null,
   "metadata": {
    "collapsed": false
   },
   "outputs": [],
   "source": [
    "set(\"my name is dave my name is dave my name is dave\".split())"
   ]
  },
  {
   "cell_type": "markdown",
   "metadata": {},
   "source": [
    "## Who has similar tastes in music?\n",
    "---\n",
    "\n",
    "We will attempt to build a small process that takes feedback from a survey and maps a distance function to find similar users based on [Jaccard distance](https://en.wikipedia.org/wiki/Jaccard_index).\n",
    "\n",
    "**Along the way we will be:**\n",
    "* Working with requests\n",
    "* Using Python sets and lists\n",
    "* Cleaning up bad data\n",
    "* Implementing the Jaccard distance function\n",
    "* Finding similar users\n",
    "\n",
    "First, we will be taking a survey!  This survey will be growing each time someone does this lab so you will be able to compare to past cohorts.\n",
    "\n",
    "> [Take the DSI music survey](https://docs.google.com/forms/d/1sSUwdx6hj-K5GjVV00W_3we7r6QeCZvgfjYSL7VrAOE/edit)"
   ]
  },
  {
   "cell_type": "markdown",
   "metadata": {},
   "source": [
    "### Loading the data\n",
    "\n",
    "First we will load our results via HTTP. Then we will load them into Pandas via StringIO, which allows us to interoperate on strings as if they were file resources. Finally we will load them as a Dataframe.  \n",
    "\n",
    "This is setup for us below."
   ]
  },
  {
   "cell_type": "code",
   "execution_count": null,
   "metadata": {
    "collapsed": true
   },
   "outputs": [],
   "source": [
    "import pandas as pd\n",
    "import requests\n",
    "\n",
    "from io import StringIO, BytesIO\n",
    "\n",
    "%matplotlib inline\n",
    "\n",
    "# if you can't run a survey and load from google spreadseets, \n",
    "# you can use the local csv.\n",
    "# local_csv = './datasets/favorite_music_responses.csv'\n",
    "# df = pd.read_csv(local_csv, index_col=0)\n",
    "# df.dropna(inplace=True)\n",
    "\n",
    "spreadsheet = \"https://docs.google.com/spreadsheets/d/1cpUb7XbN-qOq4xbGdYfhY9FtrMqRd0izz4PmTPMejt0/export?format=csv&id=1cpUb7XbN-qOq4xbGdYfhY9FtrMqRd0izz4PmTPMejt0&gid=216538035\"\n",
    "http = requests.get(spreadsheet)\n",
    "\n",
    "csv_data = BytesIO(http.content)\n",
    "df = pd.read_csv(csv_data, index_col=0)"
   ]
  },
  {
   "cell_type": "code",
   "execution_count": null,
   "metadata": {
    "collapsed": false
   },
   "outputs": [],
   "source": [
    "df.head(50)"
   ]
  },
  {
   "cell_type": "markdown",
   "metadata": {},
   "source": [
    "### 1. Rename the genre feature\n",
    "\n",
    "For ease of reference rename the feature **\"Favorite Genres / Genres you like\"** to **\"genres\"**.\n"
   ]
  },
  {
   "cell_type": "code",
   "execution_count": null,
   "metadata": {
    "collapsed": true
   },
   "outputs": [],
   "source": [
    "# Renaming the time of day feature for later as well"
   ]
  },
  {
   "cell_type": "markdown",
   "metadata": {},
   "source": [
    "### 2. Select only your response from the new \"genre\" feature\n",
    "\n",
    "Try printing out only the first value, where `df[\"Name\"] == \"[Your name]\"`."
   ]
  },
  {
   "cell_type": "code",
   "execution_count": null,
   "metadata": {
    "collapsed": true
   },
   "outputs": [],
   "source": []
  },
  {
   "cell_type": "markdown",
   "metadata": {},
   "source": [
    "### 3. Take your survey response for \"genre\" and split it into a list equal to the number of responses you chose\n",
    "\n",
    "For example if you chose \"Blues, Reggae, Electronic Music\", convert it to a list that looks like [\"Blues\", \"Raggae\", \"Electronic Music\"]."
   ]
  },
  {
   "cell_type": "code",
   "execution_count": null,
   "metadata": {
    "collapsed": true
   },
   "outputs": [],
   "source": [
    "# You can use .values or .iloc"
   ]
  },
  {
   "cell_type": "markdown",
   "metadata": {},
   "source": [
    "### 4. Create a function that takes 2 lists and calculates the Jaccard distance\n",
    "\n",
    "You can do this! Double check the lecture slides and refer to the set operations for how to calculate this.  \n",
    "\n",
    "Jaccard distance or similarity is defined as such:\n",
    "\n",
    "# $\n",
    "Jaccard = \\frac{A\\cap B}{A\\cup B} = \\frac{\\text{Items in common (intersecting)}}{\\text{Unique items in space A and B}}\n",
    "$"
   ]
  },
  {
   "cell_type": "code",
   "execution_count": null,
   "metadata": {
    "collapsed": true
   },
   "outputs": [],
   "source": [
    "# Update the jaccard function\n",
    "def jaccard(list1, list2):\n",
    "    pass\n",
    "\n",
    "\n",
    "list1 = ['blue', 'green', 'yellow']\n",
    "list2 = ['black', 'orange', 'yellow', 'green']\n",
    "\n",
    "jaccard(list1, list2)"
   ]
  },
  {
   "cell_type": "markdown",
   "metadata": {},
   "source": [
    "### 5.  Now for our final trick: calculate the distance between your genre preferences vs everyone elses\n",
    "\n",
    "Loop through everyone in the dataframe and create a list out of their \"genre\" string, print out their name and the distance between you and their genre preferences."
   ]
  },
  {
   "cell_type": "code",
   "execution_count": null,
   "metadata": {
    "collapsed": true
   },
   "outputs": [],
   "source": []
  },
  {
   "cell_type": "markdown",
   "metadata": {},
   "source": [
    "### 6. Try calculating the distance on the time of day feature\n",
    "\n",
    "Make a new dataframe, for just you vs everyone, using jaccard and time of day. Are there any interesting patterns you see?"
   ]
  },
  {
   "cell_type": "code",
   "execution_count": null,
   "metadata": {
    "collapsed": true
   },
   "outputs": [],
   "source": []
  },
  {
   "cell_type": "markdown",
   "metadata": {},
   "source": [
    "### 7. What can you say about the selection of options for genre or time and what they mean?"
   ]
  },
  {
   "cell_type": "markdown",
   "metadata": {
    "collapsed": true
   },
   "source": [
    "One thing that is pretty obvious is that there are fewer options for times of day.  Times of day is much more broad and may not be a great predictor of personalizable characteristics within the dataset.\n",
    "\n",
    "Also, options that broadly generalize preferences that already exist in the set that you're collecting is diminishing the preference value.  For instance options such as \"24/7\", \"all\", \"everything\", could describe other options in the same set and don't point to a preference to anything specific.  If you're going to ask explicitly for feedback, then these items will certainly not be very useful."
   ]
  },
  {
   "cell_type": "code",
   "execution_count": null,
   "metadata": {
    "collapsed": true
   },
   "outputs": [],
   "source": []
  },
  {
   "cell_type": "markdown",
   "metadata": {},
   "source": [
    "## 8. Bonus:  Try Jaccard out on the LastFM dataset and compare it to Pearson and Cosine."
   ]
  },
  {
   "cell_type": "code",
   "execution_count": null,
   "metadata": {
    "collapsed": false
   },
   "outputs": [],
   "source": [
    "from sklearn.preprocessing import StandardScaler\n",
    "import pandas as pd, numpy as np\n",
    "import sqlite3\n",
    "conn = sqlite3.connect(\"./db.sqlite3\")\n",
    "conn.text_factory = lambda x: str(x, 'latin1')\n",
    "\n",
    "sql = \"\"\"\n",
    "SELECT r.userID, r.artistID, r.tagID, \n",
    "a.name AS artist,\n",
    "t.tagValue as genre\n",
    "FROM rec_user_artist_tags r\n",
    "LEFT JOIN rec_artists a on r.artistID = a.id\n",
    "LEFT JOIN rec_tags t on r.tagID = t.tagID\n",
    "WHERE a.name NOT NULL\n",
    "LIMIT 15000\n",
    "\"\"\"\n",
    "\n",
    "artists = pd.read_sql(sql, con=conn)\n",
    "artist_genre = artists.groupby([\"artist\", \"genre\"]).size().sort_values(ascending=False).unstack().fillna(0)\n",
    "artist_genre"
   ]
  },
  {
   "cell_type": "code",
   "execution_count": null,
   "metadata": {
    "collapsed": true
   },
   "outputs": [],
   "source": [
    "## Calculate similarity on a smaller subset at first\n",
    "## Reference artists \"2Pac\" and \"Nickelback\", our favorite band, in the similarity matrix (and sort the scores)"
   ]
  }
 ],
 "metadata": {
  "anaconda-cloud": {},
  "kernelspec": {
   "display_name": "Python 3",
   "language": "python",
   "name": "python3"
  },
  "language_info": {
   "codemirror_mode": {
    "name": "ipython",
    "version": 3
   },
   "file_extension": ".py",
   "mimetype": "text/x-python",
   "name": "python",
   "nbconvert_exporter": "python",
   "pygments_lexer": "ipython3",
   "version": "3.6.5"
  }
 },
 "nbformat": 4,
 "nbformat_minor": 1
}
