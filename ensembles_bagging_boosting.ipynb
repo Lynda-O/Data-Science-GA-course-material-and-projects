{
 "cells": [
  {
   "cell_type": "markdown",
   "metadata": {},
   "source": [
    "<img src=\"http://imgur.com/1ZcRyrc.png\" style=\"float: left; margin: 20px; height: 55px\">\n",
    " \n",
    "# Ensembles: Bagging and Boosting\n",
    " \n",
    "_Author: Joseph Nelson (DC)_\n",
    "\n",
    "*Adapted from Chapter 8 of [An Introduction to Statistical Learning](http://www-bcf.usc.edu/~gareth/ISL/)*\n",
    "\n",
    "---"
   ]
  },
  {
   "cell_type": "markdown",
   "metadata": {},
   "source": [
    "## Learning Objectives\n",
    "\n",
    "Students will be able to:\n",
    "\n",
    "- Understand how and why decision trees can be improved using bagging and random forests.\n",
    "- Build random forest models for classification and regression.\n",
    "- Know how to extract the most important predictors in a random forest model.\n"
   ]
  },
  {
   "cell_type": "code",
   "execution_count": 2,
   "metadata": {},
   "outputs": [],
   "source": [
    "import pandas as pd\n",
    "import numpy as np\n",
    "\n",
    "import matplotlib.pyplot as plt\n",
    "\n",
    "%matplotlib inline"
   ]
  },
  {
   "cell_type": "markdown",
   "metadata": {},
   "source": [
    "<a id=\"introduction\"></a>\n",
    "# Introduction"
   ]
  },
  {
   "cell_type": "markdown",
   "metadata": {},
   "source": [
    "### What is Ensembling?\n",
    "\n",
    "**Ensemble learning (or \"ensembling\")** is the process of combining several predictive models in order to produce a combined model that is more accurate than any individual model. For example, given predictions from several models we could:\n",
    "\n",
    "- **Regression:** Take the average of the predictions.\n",
    "- **Classification:** Take a vote and use the most common prediction.\n",
    "\n",
    "For ensembling to work well, the models must be:\n",
    "\n",
    "- **Accurate:** They outperform the null model.\n",
    "- **Independent:** Their predictions are generated using different processes.\n",
    "\n",
    "**The big idea:** If you have a collection of individually imperfect (and independent) models, the \"one-off\" mistakes made by each model are probably not going to be made by the rest of the models, and thus the mistakes will be discarded when you average the models.\n",
    "\n",
    "There are two basic **methods for ensembling:**\n",
    "\n",
    "- Manually ensembling your individual models.\n",
    "- Using a model that ensembles for you."
   ]
  },
  {
   "cell_type": "markdown",
   "metadata": {},
   "source": [
    "<a id=\"part-one\"></a>\n",
    "# Part 1: Manual Ensembling\n",
    "\n",
    "What makes an effective manual ensemble?\n",
    "\n",
    "- Different types of **models**.\n",
    "- Different combinations of **features**.\n",
    "- Different **tuning parameters**."
   ]
  },
  {
   "cell_type": "markdown",
   "metadata": {},
   "source": [
    "![Machine learning flowchart](assets/crowdflower_ensembling.jpg)\n",
    "\n",
    "*Machine learning flowchart created by the [winner](https://github.com/ChenglongChen/Kaggle_CrowdFlower) of Kaggle's [CrowdFlower competition](https://www.kaggle.com/c/crowdflower-search-relevance)*."
   ]
  },
  {
   "cell_type": "markdown",
   "metadata": {},
   "source": [
    "### Comparing Manual Ensembling With a Single Model Approach\n",
    "\n",
    "**Advantages of manual ensembling:**\n",
    "\n",
    "- It increases predictive accuracy.\n",
    "- It's easy to get started.\n",
    "\n",
    "**Disadvantages of manual ensembling:**\n",
    "\n",
    "- It decreases interpretability.\n",
    "- It takes longer to train.\n",
    "- It takes longer to predict.\n",
    "- It is more complex to automate and maintain.\n",
    "- Small gains in accuracy may not be worth the added complexity."
   ]
  },
  {
   "cell_type": "markdown",
   "metadata": {},
   "source": [
    "<a id=\"part-two\"></a>\n",
    "# Part 2: Bagging\n",
    "\n",
    "The primary weakness of **decision trees** is that they don't tend to have the best predictive accuracy. This is partially because of **high variance**, meaning that different splits in the training data can lead to very different trees.\n",
    "\n",
    "**Bagging** is a general-purpose procedure for reducing the variance of a machine learning method but is particularly useful for decision trees. Bagging is short for **bootstrap aggregation**, meaning the aggregation of bootstrap samples.\n",
    "\n",
    "A **bootstrap sample is a random sample with replacement**. So, it has the same size as the original sample but might duplicate some of the original observations."
   ]
  },
  {
   "cell_type": "code",
   "execution_count": 11,
   "metadata": {},
   "outputs": [
    {
     "name": "stdout",
     "output_type": "stream",
     "text": [
      "[ 1  2  3  4  5  6  7  8  9 10 11 12 13 14 15 16 17 18 19 20]\n",
      "[15  6  2  9  9 19 10  8 14  9  5 19 13  7 11  4  1 10  7  7]\n"
     ]
    }
   ],
   "source": [
    "# Set a seed for reproducibility.\n",
    "np.random.seed(4)\n",
    "\n",
    "# Create an array of 1 through 20.\n",
    "nums = np.arange(1, 21)\n",
    "print(nums)\n",
    "\n",
    "# Sample that array 20 times with replacement.\n",
    "print(np.random.choice(a=nums, size=20, replace=True))"
   ]
  },
  {
   "cell_type": "markdown",
   "metadata": {},
   "source": [
    "**How does bagging work (for decision trees)?**\n",
    "\n",
    "1. Grow B trees using B bootstrap samples from the training data.\n",
    "2. Train each tree on its bootstrap sample and make predictions.\n",
    "3. Combine the predictions:\n",
    "    - Average the predictions for **regression trees**.\n",
    "    - Take a vote for **classification trees**.\n",
    "\n",
    "Notes:\n",
    "\n",
    "- **Each bootstrap sample** should be the same size as the original training set. (It may contain repeated rows.)\n",
    "- **B** should be a large enough value that the error seems to have \"stabilized\".\n",
    "- The trees are **grown deep** so that they have low bias/high variance.\n",
    "\n",
    "Bagging increases predictive accuracy by **reducing the variance**, **similar to how cross-validation reduces the variance associated with train/test split** (for estimating out-of-sample error) by splitting many times an averaging the results."
   ]
  },
  {
   "cell_type": "markdown",
   "metadata": {},
   "source": [
    "<a id=\"manual-bagged\"></a>\n",
    "## Manually Implementing Bagged Decision Trees (with B=10)"
   ]
  },
  {
   "cell_type": "code",
   "execution_count": 12,
   "metadata": {},
   "outputs": [
    {
     "data": {
      "text/html": [
       "<div>\n",
       "<style scoped>\n",
       "    .dataframe tbody tr th:only-of-type {\n",
       "        vertical-align: middle;\n",
       "    }\n",
       "\n",
       "    .dataframe tbody tr th {\n",
       "        vertical-align: top;\n",
       "    }\n",
       "\n",
       "    .dataframe thead th {\n",
       "        text-align: right;\n",
       "    }\n",
       "</style>\n",
       "<table border=\"1\" class=\"dataframe\">\n",
       "  <thead>\n",
       "    <tr style=\"text-align: right;\">\n",
       "      <th></th>\n",
       "      <th>price</th>\n",
       "      <th>year</th>\n",
       "      <th>miles</th>\n",
       "      <th>doors</th>\n",
       "      <th>vtype</th>\n",
       "    </tr>\n",
       "  </thead>\n",
       "  <tbody>\n",
       "    <tr>\n",
       "      <th>0</th>\n",
       "      <td>22000</td>\n",
       "      <td>2012</td>\n",
       "      <td>13000</td>\n",
       "      <td>2</td>\n",
       "      <td>0</td>\n",
       "    </tr>\n",
       "    <tr>\n",
       "      <th>1</th>\n",
       "      <td>14000</td>\n",
       "      <td>2010</td>\n",
       "      <td>30000</td>\n",
       "      <td>2</td>\n",
       "      <td>0</td>\n",
       "    </tr>\n",
       "    <tr>\n",
       "      <th>2</th>\n",
       "      <td>13000</td>\n",
       "      <td>2010</td>\n",
       "      <td>73500</td>\n",
       "      <td>4</td>\n",
       "      <td>0</td>\n",
       "    </tr>\n",
       "    <tr>\n",
       "      <th>3</th>\n",
       "      <td>9500</td>\n",
       "      <td>2009</td>\n",
       "      <td>78000</td>\n",
       "      <td>4</td>\n",
       "      <td>0</td>\n",
       "    </tr>\n",
       "    <tr>\n",
       "      <th>4</th>\n",
       "      <td>9000</td>\n",
       "      <td>2007</td>\n",
       "      <td>47000</td>\n",
       "      <td>4</td>\n",
       "      <td>0</td>\n",
       "    </tr>\n",
       "    <tr>\n",
       "      <th>5</th>\n",
       "      <td>4000</td>\n",
       "      <td>2006</td>\n",
       "      <td>124000</td>\n",
       "      <td>2</td>\n",
       "      <td>0</td>\n",
       "    </tr>\n",
       "    <tr>\n",
       "      <th>6</th>\n",
       "      <td>3000</td>\n",
       "      <td>2004</td>\n",
       "      <td>177000</td>\n",
       "      <td>4</td>\n",
       "      <td>0</td>\n",
       "    </tr>\n",
       "    <tr>\n",
       "      <th>7</th>\n",
       "      <td>2000</td>\n",
       "      <td>2004</td>\n",
       "      <td>209000</td>\n",
       "      <td>4</td>\n",
       "      <td>1</td>\n",
       "    </tr>\n",
       "    <tr>\n",
       "      <th>8</th>\n",
       "      <td>3000</td>\n",
       "      <td>2003</td>\n",
       "      <td>138000</td>\n",
       "      <td>2</td>\n",
       "      <td>0</td>\n",
       "    </tr>\n",
       "    <tr>\n",
       "      <th>9</th>\n",
       "      <td>1900</td>\n",
       "      <td>2003</td>\n",
       "      <td>160000</td>\n",
       "      <td>4</td>\n",
       "      <td>0</td>\n",
       "    </tr>\n",
       "    <tr>\n",
       "      <th>10</th>\n",
       "      <td>2500</td>\n",
       "      <td>2003</td>\n",
       "      <td>190000</td>\n",
       "      <td>2</td>\n",
       "      <td>1</td>\n",
       "    </tr>\n",
       "    <tr>\n",
       "      <th>11</th>\n",
       "      <td>5000</td>\n",
       "      <td>2001</td>\n",
       "      <td>62000</td>\n",
       "      <td>4</td>\n",
       "      <td>0</td>\n",
       "    </tr>\n",
       "    <tr>\n",
       "      <th>12</th>\n",
       "      <td>1800</td>\n",
       "      <td>1999</td>\n",
       "      <td>163000</td>\n",
       "      <td>2</td>\n",
       "      <td>1</td>\n",
       "    </tr>\n",
       "    <tr>\n",
       "      <th>13</th>\n",
       "      <td>1300</td>\n",
       "      <td>1997</td>\n",
       "      <td>138000</td>\n",
       "      <td>4</td>\n",
       "      <td>0</td>\n",
       "    </tr>\n",
       "  </tbody>\n",
       "</table>\n",
       "</div>"
      ],
      "text/plain": [
       "    price  year   miles  doors  vtype\n",
       "0   22000  2012   13000      2      0\n",
       "1   14000  2010   30000      2      0\n",
       "2   13000  2010   73500      4      0\n",
       "3    9500  2009   78000      4      0\n",
       "4    9000  2007   47000      4      0\n",
       "5    4000  2006  124000      2      0\n",
       "6    3000  2004  177000      4      0\n",
       "7    2000  2004  209000      4      1\n",
       "8    3000  2003  138000      2      0\n",
       "9    1900  2003  160000      4      0\n",
       "10   2500  2003  190000      2      1\n",
       "11   5000  2001   62000      4      0\n",
       "12   1800  1999  163000      2      1\n",
       "13   1300  1997  138000      4      0"
      ]
     },
     "execution_count": 12,
     "metadata": {},
     "output_type": "execute_result"
    }
   ],
   "source": [
    "# Read in and prepare the vehicle training data.\n",
    "import pandas as pd\n",
    "\n",
    "path = './data/vehicles_train.csv'\n",
    "train = pd.read_csv(path)\n",
    "train['vtype'] = train.vtype.map({'car':0, 'truck':1})\n",
    "train"
   ]
  },
  {
   "cell_type": "code",
   "execution_count": 13,
   "metadata": {},
   "outputs": [
    {
     "data": {
      "text/plain": [
       "[array([13,  2, 12,  2,  6,  1,  3, 10, 11,  9,  6,  1,  0,  1]),\n",
       " array([ 9,  0,  0,  9,  3, 13,  4,  0,  0,  4,  1,  7,  3,  2]),\n",
       " array([ 4,  7,  2,  4,  8, 13,  0,  7,  9,  3, 12, 12,  4,  6]),\n",
       " array([ 1,  5,  6, 11,  2,  1, 12,  8,  3, 10,  5,  0, 11,  2]),\n",
       " array([10, 10,  6, 13,  2,  4, 11, 11, 13, 12,  4,  6, 13,  3]),\n",
       " array([10,  0,  6,  4,  7, 11,  6,  7,  1, 11, 10,  5,  7,  9]),\n",
       " array([ 2,  4,  8,  1, 12,  2,  1,  1,  3, 12,  5,  9,  0,  8]),\n",
       " array([11,  1,  6,  3,  3, 11,  5,  9,  7,  9,  2,  3, 11,  3]),\n",
       " array([ 3,  8,  6,  9,  7,  6,  3,  9,  6, 12,  6, 11,  6,  1]),\n",
       " array([13, 10,  3,  4,  3,  1, 13,  0,  5,  8, 13,  6, 11,  8])]"
      ]
     },
     "execution_count": 13,
     "metadata": {},
     "output_type": "execute_result"
    }
   ],
   "source": [
    "# Set a seed for reproducibility.\n",
    "np.random.seed(123)\n",
    "\n",
    "# Create ten bootstrap samples (which will be used to select rows from the DataFrame).\n",
    "samples = [np.random.choice(a=14, size=14, replace=True) for _ in range(1, 11)]\n",
    "samples"
   ]
  },
  {
   "cell_type": "code",
   "execution_count": 14,
   "metadata": {},
   "outputs": [
    {
     "data": {
      "text/html": [
       "<div>\n",
       "<style scoped>\n",
       "    .dataframe tbody tr th:only-of-type {\n",
       "        vertical-align: middle;\n",
       "    }\n",
       "\n",
       "    .dataframe tbody tr th {\n",
       "        vertical-align: top;\n",
       "    }\n",
       "\n",
       "    .dataframe thead th {\n",
       "        text-align: right;\n",
       "    }\n",
       "</style>\n",
       "<table border=\"1\" class=\"dataframe\">\n",
       "  <thead>\n",
       "    <tr style=\"text-align: right;\">\n",
       "      <th></th>\n",
       "      <th>price</th>\n",
       "      <th>year</th>\n",
       "      <th>miles</th>\n",
       "      <th>doors</th>\n",
       "      <th>vtype</th>\n",
       "    </tr>\n",
       "  </thead>\n",
       "  <tbody>\n",
       "    <tr>\n",
       "      <th>13</th>\n",
       "      <td>1300</td>\n",
       "      <td>1997</td>\n",
       "      <td>138000</td>\n",
       "      <td>4</td>\n",
       "      <td>0</td>\n",
       "    </tr>\n",
       "    <tr>\n",
       "      <th>2</th>\n",
       "      <td>13000</td>\n",
       "      <td>2010</td>\n",
       "      <td>73500</td>\n",
       "      <td>4</td>\n",
       "      <td>0</td>\n",
       "    </tr>\n",
       "    <tr>\n",
       "      <th>12</th>\n",
       "      <td>1800</td>\n",
       "      <td>1999</td>\n",
       "      <td>163000</td>\n",
       "      <td>2</td>\n",
       "      <td>1</td>\n",
       "    </tr>\n",
       "    <tr>\n",
       "      <th>2</th>\n",
       "      <td>13000</td>\n",
       "      <td>2010</td>\n",
       "      <td>73500</td>\n",
       "      <td>4</td>\n",
       "      <td>0</td>\n",
       "    </tr>\n",
       "    <tr>\n",
       "      <th>6</th>\n",
       "      <td>3000</td>\n",
       "      <td>2004</td>\n",
       "      <td>177000</td>\n",
       "      <td>4</td>\n",
       "      <td>0</td>\n",
       "    </tr>\n",
       "    <tr>\n",
       "      <th>1</th>\n",
       "      <td>14000</td>\n",
       "      <td>2010</td>\n",
       "      <td>30000</td>\n",
       "      <td>2</td>\n",
       "      <td>0</td>\n",
       "    </tr>\n",
       "    <tr>\n",
       "      <th>3</th>\n",
       "      <td>9500</td>\n",
       "      <td>2009</td>\n",
       "      <td>78000</td>\n",
       "      <td>4</td>\n",
       "      <td>0</td>\n",
       "    </tr>\n",
       "    <tr>\n",
       "      <th>10</th>\n",
       "      <td>2500</td>\n",
       "      <td>2003</td>\n",
       "      <td>190000</td>\n",
       "      <td>2</td>\n",
       "      <td>1</td>\n",
       "    </tr>\n",
       "    <tr>\n",
       "      <th>11</th>\n",
       "      <td>5000</td>\n",
       "      <td>2001</td>\n",
       "      <td>62000</td>\n",
       "      <td>4</td>\n",
       "      <td>0</td>\n",
       "    </tr>\n",
       "    <tr>\n",
       "      <th>9</th>\n",
       "      <td>1900</td>\n",
       "      <td>2003</td>\n",
       "      <td>160000</td>\n",
       "      <td>4</td>\n",
       "      <td>0</td>\n",
       "    </tr>\n",
       "    <tr>\n",
       "      <th>6</th>\n",
       "      <td>3000</td>\n",
       "      <td>2004</td>\n",
       "      <td>177000</td>\n",
       "      <td>4</td>\n",
       "      <td>0</td>\n",
       "    </tr>\n",
       "    <tr>\n",
       "      <th>1</th>\n",
       "      <td>14000</td>\n",
       "      <td>2010</td>\n",
       "      <td>30000</td>\n",
       "      <td>2</td>\n",
       "      <td>0</td>\n",
       "    </tr>\n",
       "    <tr>\n",
       "      <th>0</th>\n",
       "      <td>22000</td>\n",
       "      <td>2012</td>\n",
       "      <td>13000</td>\n",
       "      <td>2</td>\n",
       "      <td>0</td>\n",
       "    </tr>\n",
       "    <tr>\n",
       "      <th>1</th>\n",
       "      <td>14000</td>\n",
       "      <td>2010</td>\n",
       "      <td>30000</td>\n",
       "      <td>2</td>\n",
       "      <td>0</td>\n",
       "    </tr>\n",
       "  </tbody>\n",
       "</table>\n",
       "</div>"
      ],
      "text/plain": [
       "    price  year   miles  doors  vtype\n",
       "13   1300  1997  138000      4      0\n",
       "2   13000  2010   73500      4      0\n",
       "12   1800  1999  163000      2      1\n",
       "2   13000  2010   73500      4      0\n",
       "6    3000  2004  177000      4      0\n",
       "1   14000  2010   30000      2      0\n",
       "3    9500  2009   78000      4      0\n",
       "10   2500  2003  190000      2      1\n",
       "11   5000  2001   62000      4      0\n",
       "9    1900  2003  160000      4      0\n",
       "6    3000  2004  177000      4      0\n",
       "1   14000  2010   30000      2      0\n",
       "0   22000  2012   13000      2      0\n",
       "1   14000  2010   30000      2      0"
      ]
     },
     "execution_count": 14,
     "metadata": {},
     "output_type": "execute_result"
    }
   ],
   "source": [
    "# Show the rows for the first decision tree.\n",
    "train.iloc[samples[0], :]"
   ]
  },
  {
   "cell_type": "code",
   "execution_count": 15,
   "metadata": {},
   "outputs": [
    {
     "data": {
      "text/html": [
       "<div>\n",
       "<style scoped>\n",
       "    .dataframe tbody tr th:only-of-type {\n",
       "        vertical-align: middle;\n",
       "    }\n",
       "\n",
       "    .dataframe tbody tr th {\n",
       "        vertical-align: top;\n",
       "    }\n",
       "\n",
       "    .dataframe thead th {\n",
       "        text-align: right;\n",
       "    }\n",
       "</style>\n",
       "<table border=\"1\" class=\"dataframe\">\n",
       "  <thead>\n",
       "    <tr style=\"text-align: right;\">\n",
       "      <th></th>\n",
       "      <th>price</th>\n",
       "      <th>year</th>\n",
       "      <th>miles</th>\n",
       "      <th>doors</th>\n",
       "      <th>vtype</th>\n",
       "    </tr>\n",
       "  </thead>\n",
       "  <tbody>\n",
       "    <tr>\n",
       "      <th>0</th>\n",
       "      <td>3000</td>\n",
       "      <td>2003</td>\n",
       "      <td>130000</td>\n",
       "      <td>4</td>\n",
       "      <td>1</td>\n",
       "    </tr>\n",
       "    <tr>\n",
       "      <th>1</th>\n",
       "      <td>6000</td>\n",
       "      <td>2005</td>\n",
       "      <td>82500</td>\n",
       "      <td>4</td>\n",
       "      <td>0</td>\n",
       "    </tr>\n",
       "    <tr>\n",
       "      <th>2</th>\n",
       "      <td>12000</td>\n",
       "      <td>2010</td>\n",
       "      <td>60000</td>\n",
       "      <td>2</td>\n",
       "      <td>0</td>\n",
       "    </tr>\n",
       "  </tbody>\n",
       "</table>\n",
       "</div>"
      ],
      "text/plain": [
       "   price  year   miles  doors  vtype\n",
       "0   3000  2003  130000      4      1\n",
       "1   6000  2005   82500      4      0\n",
       "2  12000  2010   60000      2      0"
      ]
     },
     "execution_count": 15,
     "metadata": {},
     "output_type": "execute_result"
    }
   ],
   "source": [
    "# Read in and prepare the vehicle testing data.\n",
    "path = './data/vehicles_test.csv'\n",
    "test = pd.read_csv(path)\n",
    "test['vtype'] = test.vtype.map({'car':0, 'truck':1})\n",
    "test"
   ]
  },
  {
   "cell_type": "code",
   "execution_count": 16,
   "metadata": {},
   "outputs": [
    {
     "data": {
      "text/plain": [
       "array([[ 1300.,  5000., 14000.],\n",
       "       [ 1300.,  1300., 13000.],\n",
       "       [ 3000.,  3000., 13000.],\n",
       "       [ 4000.,  5000., 13000.],\n",
       "       [ 1300.,  5000., 13000.],\n",
       "       [ 4000.,  5000., 14000.],\n",
       "       [ 4000.,  4000., 13000.],\n",
       "       [ 4000.,  5000., 13000.],\n",
       "       [ 3000.,  5000.,  9500.],\n",
       "       [ 4000.,  5000.,  9000.]])"
      ]
     },
     "execution_count": 16,
     "metadata": {},
     "output_type": "execute_result"
    }
   ],
   "source": [
    "from sklearn.tree import DecisionTreeRegressor\n",
    "\n",
    "# Grow each tree deep.\n",
    "treereg = DecisionTreeRegressor(max_depth=None, random_state=123)\n",
    "\n",
    "# List for storing predicted price from each tree:\n",
    "predictions = []\n",
    "\n",
    "# Define testing data.\n",
    "X_test = test.iloc[:, 1:]\n",
    "y_test = test.iloc[:, 0]\n",
    "\n",
    "# Grow one tree for each bootstrap sample and make predictions on testing data.\n",
    "for sample in samples:\n",
    "    X_train = train.iloc[sample, 1:]\n",
    "    y_train = train.iloc[sample, 0]\n",
    "    treereg.fit(X_train, y_train)\n",
    "    y_pred = treereg.predict(X_test)\n",
    "    predictions.append(y_pred)\n",
    "\n",
    "# Convert predictions from list to NumPy array.\n",
    "predictions = np.array(predictions)\n",
    "predictions"
   ]
  },
  {
   "cell_type": "code",
   "execution_count": 17,
   "metadata": {},
   "outputs": [
    {
     "data": {
      "text/plain": [
       "array([ 2990.,  4330., 12450.])"
      ]
     },
     "execution_count": 17,
     "metadata": {},
     "output_type": "execute_result"
    }
   ],
   "source": [
    "# Average predictions.\n",
    "np.mean(predictions, axis=0)"
   ]
  },
  {
   "cell_type": "code",
   "execution_count": 18,
   "metadata": {},
   "outputs": [
    {
     "data": {
      "text/plain": [
       "998.5823284370031"
      ]
     },
     "execution_count": 18,
     "metadata": {},
     "output_type": "execute_result"
    }
   ],
   "source": [
    "# Calculate RMSE.\n",
    "from sklearn import metrics\n",
    "y_pred = np.mean(predictions, axis=0)\n",
    "np.sqrt(metrics.mean_squared_error(y_test, y_pred))"
   ]
  },
  {
   "cell_type": "markdown",
   "metadata": {},
   "source": [
    "<a id=\"manual-sklearn\"></a>\n",
    "## Bagged Decision Trees in `scikit-learn` (with B=500)"
   ]
  },
  {
   "cell_type": "code",
   "execution_count": 19,
   "metadata": {
    "collapsed": true
   },
   "outputs": [],
   "source": [
    "# Define the training and testing sets.\n",
    "X_train = train.iloc[:, 1:]\n",
    "y_train = train.iloc[:, 0]\n",
    "X_test = test.iloc[:, 1:]\n",
    "y_test = test.iloc[:, 0]"
   ]
  },
  {
   "cell_type": "code",
   "execution_count": 20,
   "metadata": {
    "collapsed": true
   },
   "outputs": [],
   "source": [
    "# Instruct BaggingRegressor to use DecisionTreeRegressor as the \"base estimator.\"\n",
    "from sklearn.ensemble import BaggingRegressor\n",
    "bagreg = BaggingRegressor(DecisionTreeRegressor(), n_estimators=500, bootstrap=True, oob_score=True, random_state=1)"
   ]
  },
  {
   "cell_type": "code",
   "execution_count": 21,
   "metadata": {},
   "outputs": [
    {
     "data": {
      "text/plain": [
       "array([ 3335. ,  5419.8, 12956. ])"
      ]
     },
     "execution_count": 21,
     "metadata": {},
     "output_type": "execute_result"
    }
   ],
   "source": [
    "# Fit and predict.\n",
    "bagreg.fit(X_train, y_train)\n",
    "y_pred = bagreg.predict(X_test)\n",
    "y_pred"
   ]
  },
  {
   "cell_type": "code",
   "execution_count": 22,
   "metadata": {},
   "outputs": [
    {
     "data": {
      "text/plain": [
       "0.7662607997982768"
      ]
     },
     "execution_count": 22,
     "metadata": {},
     "output_type": "execute_result"
    }
   ],
   "source": [
    "bagreg.oob_score_"
   ]
  },
  {
   "cell_type": "code",
   "execution_count": 23,
   "metadata": {},
   "outputs": [
    {
     "data": {
      "text/plain": [
       "673.9913550385247"
      ]
     },
     "execution_count": 23,
     "metadata": {},
     "output_type": "execute_result"
    }
   ],
   "source": [
    "# Calculate RMSE.\n",
    "np.sqrt(metrics.mean_squared_error(y_test, y_pred))"
   ]
  },
  {
   "cell_type": "markdown",
   "metadata": {},
   "source": [
    "<a id=\"oos-error\"></a>\n",
    "## Estimating Out-of-Sample Error\n",
    "\n",
    "For bagged models, out-of-sample error can be estimated without using **train/test split** or **cross-validation**!\n",
    "\n",
    "For each tree, the **unused observations** are called \"out-of-bag\" observations."
   ]
  },
  {
   "cell_type": "code",
   "execution_count": 24,
   "metadata": {},
   "outputs": [
    {
     "data": {
      "text/plain": [
       "array([13,  2, 12,  2,  6,  1,  3, 10, 11,  9,  6,  1,  0,  1])"
      ]
     },
     "execution_count": 24,
     "metadata": {},
     "output_type": "execute_result"
    }
   ],
   "source": [
    "# Show the first bootstrap sample.\n",
    "samples[0]"
   ]
  },
  {
   "cell_type": "code",
   "execution_count": 25,
   "metadata": {},
   "outputs": [
    {
     "name": "stdout",
     "output_type": "stream",
     "text": [
      "{0, 1, 2, 3, 6, 9, 10, 11, 12, 13}\n",
      "{0, 1, 2, 3, 4, 7, 9, 13}\n",
      "{0, 2, 3, 4, 6, 7, 8, 9, 12, 13}\n",
      "{0, 1, 2, 3, 5, 6, 8, 10, 11, 12}\n",
      "{2, 3, 4, 6, 10, 11, 12, 13}\n",
      "{0, 1, 4, 5, 6, 7, 9, 10, 11}\n",
      "{0, 1, 2, 3, 4, 5, 8, 9, 12}\n",
      "{1, 2, 3, 5, 6, 7, 9, 11}\n",
      "{1, 3, 6, 7, 8, 9, 11, 12}\n",
      "{0, 1, 3, 4, 5, 6, 8, 10, 11, 13}\n"
     ]
    }
   ],
   "source": [
    "# Show the \"in-bag\" observations for each sample.\n",
    "for sample in samples:\n",
    "    print(set(sample))"
   ]
  },
  {
   "cell_type": "code",
   "execution_count": 26,
   "metadata": {},
   "outputs": [
    {
     "name": "stdout",
     "output_type": "stream",
     "text": [
      "[4, 5, 7, 8]\n",
      "[5, 6, 8, 10, 11, 12]\n",
      "[1, 5, 10, 11]\n",
      "[4, 7, 9, 13]\n",
      "[0, 1, 5, 7, 8, 9]\n",
      "[2, 3, 8, 12, 13]\n",
      "[6, 7, 10, 11, 13]\n",
      "[0, 4, 8, 10, 12, 13]\n",
      "[0, 2, 4, 5, 10, 13]\n",
      "[2, 7, 9, 12]\n"
     ]
    }
   ],
   "source": [
    "# Show the \"out-of-bag\" observations for each sample.\n",
    "for sample in samples:\n",
    "    print(sorted(set(range(14)) - set(sample)))"
   ]
  },
  {
   "cell_type": "markdown",
   "metadata": {},
   "source": [
    "**Calculating \"out-of-bag error:\"**\n",
    "\n",
    "1. For each observation in the training data, predict its response value using **only** the trees in which that observation was out-of-bag. Average those predictions (for regression) or take a vote (for classification).\n",
    "2. Compare all predictions to the actual response values in order to compute the out-of-bag error.\n",
    "\n",
    "When B is sufficiently large, the **out-of-bag error** is an accurate estimate of **out-of-sample error**."
   ]
  },
  {
   "cell_type": "code",
   "execution_count": 27,
   "metadata": {},
   "outputs": [
    {
     "data": {
      "text/plain": [
       "0.7662607997982768"
      ]
     },
     "execution_count": 27,
     "metadata": {},
     "output_type": "execute_result"
    }
   ],
   "source": [
    "# Compute the out-of-bag R-squared score (not MSE, unfortunately) for B=500.\n",
    "bagreg.oob_score_"
   ]
  },
  {
   "cell_type": "markdown",
   "metadata": {},
   "source": [
    "### Estimating Feature Importance\n",
    "\n",
    "Bagging increases **predictive accuracy** but decreases **model interpretability** because it's no longer possible to visualize the tree to understand the importance of each feature.\n",
    "\n",
    "However, we can still obtain an overall summary of **feature importance** from bagged models:\n",
    "\n",
    "- **Bagged regression trees:** Calculate the total amount that **MSE** decreases due to splits over a given feature, averaged over all trees\n",
    "- **Bagged classification trees:** Calculate the total amount that **Gini index** decreases due to splits over a given feature, averaged over all trees"
   ]
  },
  {
   "cell_type": "markdown",
   "metadata": {},
   "source": [
    "<a id=\"part-three\"></a>\n",
    "## Random Forests\n",
    "\n",
    "Random Forests offer a **slight variation on bagged trees** with even better performance:\n",
    "\n",
    "- Exactly like bagging, we create an ensemble of decision trees using bootstrapped samples of the training set.\n",
    "- However, when building each tree, each time a split is considered, a **random sample of m features** is chosen as split candidates from the **full set of p features**. The split is only allowed to use **one of those m features**.\n",
    "    - A new random sample of features is chosen for **every single tree at every single split**.\n",
    "    - For **classification**, m is typically chosen to be the **square root of p**.\n",
    "    - For **regression**, m is typically chosen to be somewhere **between p/3 and p**.\n",
    "\n",
    "What's the point?\n",
    "\n",
    "- Suppose there is **one very strong feature** in the data set. When using bagged trees, most of the trees will use that feature as the top split, resulting in an ensemble of similar trees that are **highly correlated**.\n",
    "- Averaging highly correlated quantities does not significantly reduce variance (which is the entire goal of bagging).\n",
    "- **By randomly leaving out candidate features from each split, random forests \"decorrelate\" the trees to the extent that the averaging process can reduce the variance of the resulting model**.\n",
    "- Another way of looking at it is that sometimes one or two strong features dominate every tree in bagging, resulting in essentially the same tree as every predictor. (This is what was meant when saying the trees could be highly correlated.) By using a subset of features to generate each tree, we get a wider variety of predictive trees that do not all use the same dominant features."
   ]
  },
  {
   "cell_type": "markdown",
   "metadata": {},
   "source": [
    "<a id=\"part-one\"></a>\n",
    "\n",
    "# Part 3: Boosting\n",
    "Boosted decision trees are built sequentially. After the first tree gets built, the algorithm analysis its performance. The next tree that gets built puts heavier weights on misclassified observations (in particular False Negatives), and so on. This make Boosting the ideal algorithm to use when there is a large class imbalance (e.g. Fraud detection). \n",
    "\n",
    "The 3 most popular Boosting algorithms (and the original papers describing them) are listed below:\n",
    "- XGBoost: https://xgboost.readthedocs.io/en/latest/ (https://arxiv.org/pdf/1603.02754.pdf)\n",
    "- (Microsoft's) LightGBM: https://lightgbm.readthedocs.io/en/latest/ (https://papers.nips.cc/paper/6907-lightgbm-a-highly-efficient-gradient-boosting-decision-tree.pdf)\n",
    "- (Yandex's) CatBoost: https://catboost.ai/ (https://arxiv.org/pdf/1706.09516.pdf)\n",
    "\n",
    "Not only are modern Boosting algorithms much quicker at building boosting trees than sklearn's `GradientBoostingClassifier`, but `LightGBM` and `CatBoost` also have inbuilt ways of dealing with categorical features so no `LabelEncoding` or `OneHotEncoding` has to be applied."
   ]
  },
  {
   "cell_type": "code",
   "execution_count": 28,
   "metadata": {},
   "outputs": [
    {
     "data": {
      "text/html": [
       "<div>\n",
       "<style scoped>\n",
       "    .dataframe tbody tr th:only-of-type {\n",
       "        vertical-align: middle;\n",
       "    }\n",
       "\n",
       "    .dataframe tbody tr th {\n",
       "        vertical-align: top;\n",
       "    }\n",
       "\n",
       "    .dataframe thead th {\n",
       "        text-align: right;\n",
       "    }\n",
       "</style>\n",
       "<table border=\"1\" class=\"dataframe\">\n",
       "  <thead>\n",
       "    <tr style=\"text-align: right;\">\n",
       "      <th></th>\n",
       "      <th>PassengerId</th>\n",
       "      <th>Survived</th>\n",
       "      <th>Pclass</th>\n",
       "      <th>Name</th>\n",
       "      <th>Sex</th>\n",
       "      <th>Age</th>\n",
       "      <th>SibSp</th>\n",
       "      <th>Parch</th>\n",
       "      <th>Ticket</th>\n",
       "      <th>Fare</th>\n",
       "      <th>Cabin</th>\n",
       "      <th>Embarked</th>\n",
       "      <th>Embarked_Q</th>\n",
       "      <th>Embarked_S</th>\n",
       "    </tr>\n",
       "  </thead>\n",
       "  <tbody>\n",
       "    <tr>\n",
       "      <th>0</th>\n",
       "      <td>1</td>\n",
       "      <td>0</td>\n",
       "      <td>3</td>\n",
       "      <td>Braund, Mr. Owen Harris</td>\n",
       "      <td>1</td>\n",
       "      <td>22.0</td>\n",
       "      <td>1</td>\n",
       "      <td>0</td>\n",
       "      <td>A/5 21171</td>\n",
       "      <td>7.2500</td>\n",
       "      <td>NaN</td>\n",
       "      <td>S</td>\n",
       "      <td>0</td>\n",
       "      <td>1</td>\n",
       "    </tr>\n",
       "    <tr>\n",
       "      <th>1</th>\n",
       "      <td>2</td>\n",
       "      <td>1</td>\n",
       "      <td>1</td>\n",
       "      <td>Cumings, Mrs. John Bradley (Florence Briggs Th...</td>\n",
       "      <td>0</td>\n",
       "      <td>38.0</td>\n",
       "      <td>1</td>\n",
       "      <td>0</td>\n",
       "      <td>PC 17599</td>\n",
       "      <td>71.2833</td>\n",
       "      <td>C85</td>\n",
       "      <td>C</td>\n",
       "      <td>0</td>\n",
       "      <td>0</td>\n",
       "    </tr>\n",
       "    <tr>\n",
       "      <th>2</th>\n",
       "      <td>3</td>\n",
       "      <td>1</td>\n",
       "      <td>3</td>\n",
       "      <td>Heikkinen, Miss. Laina</td>\n",
       "      <td>0</td>\n",
       "      <td>26.0</td>\n",
       "      <td>0</td>\n",
       "      <td>0</td>\n",
       "      <td>STON/O2. 3101282</td>\n",
       "      <td>7.9250</td>\n",
       "      <td>NaN</td>\n",
       "      <td>S</td>\n",
       "      <td>0</td>\n",
       "      <td>1</td>\n",
       "    </tr>\n",
       "    <tr>\n",
       "      <th>3</th>\n",
       "      <td>4</td>\n",
       "      <td>1</td>\n",
       "      <td>1</td>\n",
       "      <td>Futrelle, Mrs. Jacques Heath (Lily May Peel)</td>\n",
       "      <td>0</td>\n",
       "      <td>35.0</td>\n",
       "      <td>1</td>\n",
       "      <td>0</td>\n",
       "      <td>113803</td>\n",
       "      <td>53.1000</td>\n",
       "      <td>C123</td>\n",
       "      <td>S</td>\n",
       "      <td>0</td>\n",
       "      <td>1</td>\n",
       "    </tr>\n",
       "    <tr>\n",
       "      <th>4</th>\n",
       "      <td>5</td>\n",
       "      <td>0</td>\n",
       "      <td>3</td>\n",
       "      <td>Allen, Mr. William Henry</td>\n",
       "      <td>1</td>\n",
       "      <td>35.0</td>\n",
       "      <td>0</td>\n",
       "      <td>0</td>\n",
       "      <td>373450</td>\n",
       "      <td>8.0500</td>\n",
       "      <td>NaN</td>\n",
       "      <td>S</td>\n",
       "      <td>0</td>\n",
       "      <td>1</td>\n",
       "    </tr>\n",
       "  </tbody>\n",
       "</table>\n",
       "</div>"
      ],
      "text/plain": [
       "   PassengerId  Survived  Pclass  \\\n",
       "0            1         0       3   \n",
       "1            2         1       1   \n",
       "2            3         1       3   \n",
       "3            4         1       1   \n",
       "4            5         0       3   \n",
       "\n",
       "                                                Name  Sex   Age  SibSp  Parch  \\\n",
       "0                            Braund, Mr. Owen Harris    1  22.0      1      0   \n",
       "1  Cumings, Mrs. John Bradley (Florence Briggs Th...    0  38.0      1      0   \n",
       "2                             Heikkinen, Miss. Laina    0  26.0      0      0   \n",
       "3       Futrelle, Mrs. Jacques Heath (Lily May Peel)    0  35.0      1      0   \n",
       "4                           Allen, Mr. William Henry    1  35.0      0      0   \n",
       "\n",
       "             Ticket     Fare Cabin Embarked  Embarked_Q  Embarked_S  \n",
       "0         A/5 21171   7.2500   NaN        S           0           1  \n",
       "1          PC 17599  71.2833   C85        C           0           0  \n",
       "2  STON/O2. 3101282   7.9250   NaN        S           0           1  \n",
       "3            113803  53.1000  C123        S           0           1  \n",
       "4            373450   8.0500   NaN        S           0           1  "
      ]
     },
     "execution_count": 28,
     "metadata": {},
     "output_type": "execute_result"
    }
   ],
   "source": [
    "from sklearn.model_selection import train_test_split\n",
    "from sklearn.metrics import confusion_matrix, accuracy_score, recall_score, precision_score, f1_score\n",
    "\n",
    "# Read in the data.\n",
    "path = './data/titanic.csv'\n",
    "titanic = pd.read_csv(path)\n",
    "\n",
    "# Encode female as 0 and male as 1.\n",
    "titanic['Sex'] = titanic.Sex.map({'female':0, 'male':1})\n",
    "\n",
    "# Fill in the missing values for age with the median age.\n",
    "titanic.Age.fillna(titanic.Age.median(), inplace=True)\n",
    "\n",
    "# Create a DataFrame of dummy variables for Embarked.\n",
    "embarked_dummies = pd.get_dummies(titanic.Embarked, prefix='Embarked')\n",
    "embarked_dummies.drop(embarked_dummies.columns[0], axis=1, inplace=True)\n",
    "\n",
    "# Concatenate the original DataFrame and the dummy DataFrame.\n",
    "titanic = pd.concat([titanic, embarked_dummies], axis=1)\n",
    "\n",
    "# Print the updated DataFrame.\n",
    "titanic.head()"
   ]
  },
  {
   "cell_type": "markdown",
   "metadata": {},
   "source": [
    "### `sklearn.GradientBoostingClassifier`"
   ]
  },
  {
   "cell_type": "code",
   "execution_count": 29,
   "metadata": {},
   "outputs": [
    {
     "data": {
      "text/plain": [
       "Index(['PassengerId', 'Survived', 'Pclass', 'Sex', 'Age', 'SibSp', 'Parch',\n",
       "       'Fare', 'Embarked_Q', 'Embarked_S'],\n",
       "      dtype='object')"
      ]
     },
     "execution_count": 29,
     "metadata": {},
     "output_type": "execute_result"
    }
   ],
   "source": [
    "# selecting features by type \n",
    "titanic.select_dtypes(exclude=[\"object\", \"category\"]).columns"
   ]
  },
  {
   "cell_type": "code",
   "execution_count": 30,
   "metadata": {},
   "outputs": [
    {
     "name": "stdout",
     "output_type": "stream",
     "text": [
      "Confusion Matrix:\n",
      " [[163  19]\n",
      " [ 39  74]] \n",
      "Accuracy: 80.34 % \n",
      "Precision: 79.57 % \n",
      "Recall: 65.49 % \n",
      "F1: 71.84 %\n"
     ]
    }
   ],
   "source": [
    "from sklearn.ensemble import GradientBoostingClassifier\n",
    "# Define X and y.\n",
    "feature_cols = ['Pclass', 'Sex', 'Age', 'Embarked_Q', 'Embarked_S']\n",
    "\n",
    "X = titanic[feature_cols]\n",
    "y = titanic.Survived\n",
    "\n",
    "X_train, X_test, y_train, y_test = train_test_split(X, y, test_size=0.33, random_state=42, stratify=y)\n",
    "\n",
    "gbc = GradientBoostingClassifier()\n",
    "gbc.fit(X_train, y_train)\n",
    "y_pred = gbc.predict(X_test)\n",
    "\n",
    "print(\"Confusion Matrix:\\n\", confusion_matrix(y_test, y_pred),\n",
    "      \"\\nAccuracy:\", round(accuracy_score(y_test, y_pred) * 100, 2), \"%\",\n",
    "      \"\\nPrecision:\", round(precision_score(y_test, y_pred) * 100, 2), \"%\",\n",
    "      \"\\nRecall:\", round(recall_score(y_test, y_pred) * 100, 2), \"%\",      \n",
    "      \"\\nF1:\", round(f1_score(y_test, y_pred) * 100, 2), \"%\")"
   ]
  },
  {
   "cell_type": "markdown",
   "metadata": {},
   "source": [
    "## Newer Boosting Algorighms (Classification Examples)\n",
    "- Have inbuild ways of dealing with categorical features\n",
    "- Are optimised (in the form of a few very clever tricks - read the papers for more details) to train very quickly\n",
    "- Have inbuild logic to use training and validation sets for model builds."
   ]
  },
  {
   "cell_type": "code",
   "execution_count": 32,
   "metadata": {},
   "outputs": [],
   "source": [
    "titanic = titanic.dropna()\n",
    "\n",
    "feature_cols = [\"Pclass\", \"Sex\", \"Age\", \"Embarked\"]\n",
    "\n",
    "titanic[\"Embarked\"] = titanic[\"Embarked\"].astype('category')\n",
    "\n",
    "X = titanic[feature_cols]\n",
    "y = titanic.Survived\n",
    "\n",
    "X_train, X_test, y_train, y_test = train_test_split(X, y, test_size=0.33, random_state=42, stratify=y)\n",
    "\n",
    "\n",
    "X_train, X_validation, y_train, y_validation = train_test_split(\n",
    "    X_train, y_train, test_size=0.33, random_state=42, stratify=y_train\n",
    ")\n",
    "\n",
    "cat = [\"Embarked\"]"
   ]
  },
  {
   "cell_type": "markdown",
   "metadata": {},
   "source": [
    "### LightGBM"
   ]
  },
  {
   "cell_type": "raw",
   "metadata": {},
   "source": [
    "!brew install libomp\n",
    "!pip install lightgbm"
   ]
  },
  {
   "cell_type": "code",
   "execution_count": 33,
   "metadata": {},
   "outputs": [],
   "source": [
    "import lightgbm as lgbm\n",
    "\n",
    "# dataset for lightgbm\n",
    "train_set = lgbm.Dataset(data=X_train, \n",
    "                         label=y_train,\n",
    "                         categorical_feature=cat, \n",
    "                         free_raw_data=False)\n",
    "\n",
    "validation_set = lgbm.Dataset(data=X_validation, \n",
    "                         label=y_validation,\n",
    "                         categorical_feature=cat, \n",
    "                         free_raw_data=False)\n",
    "\n",
    "test_set = lgbm.Dataset(data=X_test, \n",
    "                         label=y_test,\n",
    "                         categorical_feature=cat, \n",
    "                         free_raw_data=False) "
   ]
  },
  {
   "cell_type": "code",
   "execution_count": 37,
   "metadata": {},
   "outputs": [
    {
     "data": {
      "text/plain": [
       "60"
      ]
     },
     "execution_count": 37,
     "metadata": {},
     "output_type": "execute_result"
    }
   ],
   "source": [
    "y_train.value_counts()[1]"
   ]
  },
  {
   "cell_type": "code",
   "execution_count": 38,
   "metadata": {},
   "outputs": [],
   "source": [
    "# model parameters defined\n",
    "lgbm_params = {'max_depth': 3, \n",
    "               'learning_rate': 0.01, \n",
    "               'objective': 'binary', \n",
    "               'scale_pos_weight': y_train.value_counts()[0] / y_train.value_counts()[1] ,                    \n",
    "               'boost_from_average': False,\n",
    "               'feature_fraction' : 0.7,\n",
    "          }\n",
    "\n",
    "evaluation_results = {}"
   ]
  },
  {
   "cell_type": "code",
   "execution_count": 39,
   "metadata": {},
   "outputs": [
    {
     "name": "stderr",
     "output_type": "stream",
     "text": [
      "//anaconda/lib/python3.6/site-packages/lightgbm/basic.py:1291: UserWarning: Using categorical_feature in Dataset.\n",
      "  warnings.warn('Using categorical_feature in Dataset.')\n"
     ]
    },
    {
     "name": "stdout",
     "output_type": "stream",
     "text": [
      "[1]\tTrain's binary_logloss: 0.688764\tValidate's binary_logloss: 0.689229\n",
      "Training until validation scores don't improve for 50 rounds\n",
      "[2]\tTrain's binary_logloss: 0.684318\tValidate's binary_logloss: 0.685258\n",
      "[3]\tTrain's binary_logloss: 0.679965\tValidate's binary_logloss: 0.68138\n",
      "[4]\tTrain's binary_logloss: 0.675853\tValidate's binary_logloss: 0.677727\n",
      "[5]\tTrain's binary_logloss: 0.671827\tValidate's binary_logloss: 0.674158\n",
      "[6]\tTrain's binary_logloss: 0.670324\tValidate's binary_logloss: 0.673659\n",
      "[7]\tTrain's binary_logloss: 0.666395\tValidate's binary_logloss: 0.670185\n",
      "[8]\tTrain's binary_logloss: 0.662396\tValidate's binary_logloss: 0.666658\n",
      "[9]\tTrain's binary_logloss: 0.658479\tValidate's binary_logloss: 0.663212\n",
      "[10]\tTrain's binary_logloss: 0.657047\tValidate's binary_logloss: 0.662766\n",
      "[11]\tTrain's binary_logloss: 0.655645\tValidate's binary_logloss: 0.66234\n",
      "[12]\tTrain's binary_logloss: 0.654271\tValidate's binary_logloss: 0.661934\n",
      "[13]\tTrain's binary_logloss: 0.652925\tValidate's binary_logloss: 0.661547\n",
      "[14]\tTrain's binary_logloss: 0.649283\tValidate's binary_logloss: 0.658356\n",
      "[15]\tTrain's binary_logloss: 0.647977\tValidate's binary_logloss: 0.657997\n",
      "[16]\tTrain's binary_logloss: 0.644419\tValidate's binary_logloss: 0.654888\n",
      "[17]\tTrain's binary_logloss: 0.640789\tValidate's binary_logloss: 0.651735\n",
      "[18]\tTrain's binary_logloss: 0.637372\tValidate's binary_logloss: 0.648763\n",
      "[19]\tTrain's binary_logloss: 0.633881\tValidate's binary_logloss: 0.645747\n",
      "[20]\tTrain's binary_logloss: 0.630599\tValidate's binary_logloss: 0.642905\n",
      "[21]\tTrain's binary_logloss: 0.629373\tValidate's binary_logloss: 0.642606\n",
      "[22]\tTrain's binary_logloss: 0.628172\tValidate's binary_logloss: 0.642323\n",
      "[23]\tTrain's binary_logloss: 0.626995\tValidate's binary_logloss: 0.642056\n",
      "[24]\tTrain's binary_logloss: 0.623807\tValidate's binary_logloss: 0.639307\n",
      "[25]\tTrain's binary_logloss: 0.620542\tValidate's binary_logloss: 0.636518\n",
      "[26]\tTrain's binary_logloss: 0.619407\tValidate's binary_logloss: 0.63628\n",
      "[27]\tTrain's binary_logloss: 0.616352\tValidate's binary_logloss: 0.63366\n",
      "[28]\tTrain's binary_logloss: 0.613355\tValidate's binary_logloss: 0.631098\n",
      "[29]\tTrain's binary_logloss: 0.61226\tValidate's binary_logloss: 0.630888\n",
      "[30]\tTrain's binary_logloss: 0.60933\tValidate's binary_logloss: 0.62839\n",
      "[31]\tTrain's binary_logloss: 0.606319\tValidate's binary_logloss: 0.625852\n",
      "[32]\tTrain's binary_logloss: 0.605263\tValidate's binary_logloss: 0.625669\n",
      "[33]\tTrain's binary_logloss: 0.602317\tValidate's binary_logloss: 0.623196\n",
      "[34]\tTrain's binary_logloss: 0.599559\tValidate's binary_logloss: 0.620866\n",
      "[35]\tTrain's binary_logloss: 0.596854\tValidate's binary_logloss: 0.618586\n",
      "[36]\tTrain's binary_logloss: 0.595841\tValidate's binary_logloss: 0.618433\n",
      "[37]\tTrain's binary_logloss: 0.593062\tValidate's binary_logloss: 0.616125\n",
      "[38]\tTrain's binary_logloss: 0.592076\tValidate's binary_logloss: 0.615989\n",
      "[39]\tTrain's binary_logloss: 0.589486\tValidate's binary_logloss: 0.613822\n",
      "[40]\tTrain's binary_logloss: 0.588527\tValidate's binary_logloss: 0.613703\n",
      "[41]\tTrain's binary_logloss: 0.585862\tValidate's binary_logloss: 0.611509\n",
      "[42]\tTrain's binary_logloss: 0.583375\tValidate's binary_logloss: 0.609441\n",
      "[43]\tTrain's binary_logloss: 0.582447\tValidate's binary_logloss: 0.609343\n",
      "[44]\tTrain's binary_logloss: 0.5811\tValidate's binary_logloss: 0.609059\n",
      "[45]\tTrain's binary_logloss: 0.578544\tValidate's binary_logloss: 0.606975\n",
      "[46]\tTrain's binary_logloss: 0.576162\tValidate's binary_logloss: 0.60501\n",
      "[47]\tTrain's binary_logloss: 0.573823\tValidate's binary_logloss: 0.603087\n",
      "[48]\tTrain's binary_logloss: 0.572945\tValidate's binary_logloss: 0.603024\n",
      "[49]\tTrain's binary_logloss: 0.570655\tValidate's binary_logloss: 0.601148\n",
      "[50]\tTrain's binary_logloss: 0.568407\tValidate's binary_logloss: 0.599313\n",
      "[51]\tTrain's binary_logloss: 0.566074\tValidate's binary_logloss: 0.597446\n",
      "[52]\tTrain's binary_logloss: 0.564801\tValidate's binary_logloss: 0.597226\n",
      "[53]\tTrain's binary_logloss: 0.563552\tValidate's binary_logloss: 0.597021\n",
      "[54]\tTrain's binary_logloss: 0.562731\tValidate's binary_logloss: 0.596999\n",
      "[55]\tTrain's binary_logloss: 0.560458\tValidate's binary_logloss: 0.595196\n",
      "[56]\tTrain's binary_logloss: 0.558348\tValidate's binary_logloss: 0.593496\n",
      "[57]\tTrain's binary_logloss: 0.556276\tValidate's binary_logloss: 0.591832\n",
      "[58]\tTrain's binary_logloss: 0.554119\tValidate's binary_logloss: 0.590142\n",
      "[59]\tTrain's binary_logloss: 0.552001\tValidate's binary_logloss: 0.588489\n",
      "[60]\tTrain's binary_logloss: 0.550039\tValidate's binary_logloss: 0.586931\n",
      "[61]\tTrain's binary_logloss: 0.548855\tValidate's binary_logloss: 0.586782\n",
      "[62]\tTrain's binary_logloss: 0.547693\tValidate's binary_logloss: 0.586647\n",
      "[63]\tTrain's binary_logloss: 0.545777\tValidate's binary_logloss: 0.585134\n",
      "[64]\tTrain's binary_logloss: 0.543894\tValidate's binary_logloss: 0.583653\n",
      "[65]\tTrain's binary_logloss: 0.542764\tValidate's binary_logloss: 0.58354\n",
      "[66]\tTrain's binary_logloss: 0.540801\tValidate's binary_logloss: 0.582043\n",
      "[67]\tTrain's binary_logloss: 0.540069\tValidate's binary_logloss: 0.582085\n",
      "[68]\tTrain's binary_logloss: 0.538145\tValidate's binary_logloss: 0.580626\n",
      "[69]\tTrain's binary_logloss: 0.536255\tValidate's binary_logloss: 0.5792\n",
      "[70]\tTrain's binary_logloss: 0.534397\tValidate's binary_logloss: 0.577807\n",
      "[71]\tTrain's binary_logloss: 0.533314\tValidate's binary_logloss: 0.577733\n",
      "[72]\tTrain's binary_logloss: 0.531493\tValidate's binary_logloss: 0.576377\n",
      "[73]\tTrain's binary_logloss: 0.529704\tValidate's binary_logloss: 0.575051\n",
      "[74]\tTrain's binary_logloss: 0.527946\tValidate's binary_logloss: 0.573755\n",
      "[75]\tTrain's binary_logloss: 0.526218\tValidate's binary_logloss: 0.572488\n",
      "[76]\tTrain's binary_logloss: 0.524626\tValidate's binary_logloss: 0.571287\n",
      "[77]\tTrain's binary_logloss: 0.523581\tValidate's binary_logloss: 0.571248\n",
      "[78]\tTrain's binary_logloss: 0.522555\tValidate's binary_logloss: 0.57122\n",
      "[79]\tTrain's binary_logloss: 0.520892\tValidate's binary_logloss: 0.570019\n",
      "[80]\tTrain's binary_logloss: 0.519363\tValidate's binary_logloss: 0.568879\n",
      "[81]\tTrain's binary_logloss: 0.518363\tValidate's binary_logloss: 0.568869\n",
      "[82]\tTrain's binary_logloss: 0.517381\tValidate's binary_logloss: 0.568868\n",
      "[83]\tTrain's binary_logloss: 0.516744\tValidate's binary_logloss: 0.568975\n",
      "[84]\tTrain's binary_logloss: 0.51579\tValidate's binary_logloss: 0.56899\n",
      "[85]\tTrain's binary_logloss: 0.514197\tValidate's binary_logloss: 0.56786\n",
      "[86]\tTrain's binary_logloss: 0.512733\tValidate's binary_logloss: 0.566786\n",
      "[87]\tTrain's binary_logloss: 0.511802\tValidate's binary_logloss: 0.566817\n",
      "[88]\tTrain's binary_logloss: 0.510264\tValidate's binary_logloss: 0.565742\n",
      "[89]\tTrain's binary_logloss: 0.509665\tValidate's binary_logloss: 0.565871\n",
      "[90]\tTrain's binary_logloss: 0.508156\tValidate's binary_logloss: 0.564824\n",
      "[91]\tTrain's binary_logloss: 0.507256\tValidate's binary_logloss: 0.564877\n",
      "[92]\tTrain's binary_logloss: 0.506677\tValidate's binary_logloss: 0.565019\n",
      "[93]\tTrain's binary_logloss: 0.505299\tValidate's binary_logloss: 0.564027\n",
      "[94]\tTrain's binary_logloss: 0.504425\tValidate's binary_logloss: 0.564096\n",
      "[95]\tTrain's binary_logloss: 0.503074\tValidate's binary_logloss: 0.56313\n",
      "[96]\tTrain's binary_logloss: 0.502519\tValidate's binary_logloss: 0.563286\n",
      "[97]\tTrain's binary_logloss: 0.501193\tValidate's binary_logloss: 0.562344\n",
      "[98]\tTrain's binary_logloss: 0.499791\tValidate's binary_logloss: 0.561401\n",
      "[99]\tTrain's binary_logloss: 0.498412\tValidate's binary_logloss: 0.560481\n",
      "[100]\tTrain's binary_logloss: 0.497153\tValidate's binary_logloss: 0.559601\n",
      "[101]\tTrain's binary_logloss: 0.495819\tValidate's binary_logloss: 0.558723\n",
      "[102]\tTrain's binary_logloss: 0.49498\tValidate's binary_logloss: 0.558823\n",
      "[103]\tTrain's binary_logloss: 0.493671\tValidate's binary_logloss: 0.557969\n",
      "[104]\tTrain's binary_logloss: 0.492383\tValidate's binary_logloss: 0.557136\n",
      "[105]\tTrain's binary_logloss: 0.49121\tValidate's binary_logloss: 0.556338\n",
      "[106]\tTrain's binary_logloss: 0.490057\tValidate's binary_logloss: 0.555558\n",
      "[107]\tTrain's binary_logloss: 0.489241\tValidate's binary_logloss: 0.555676\n",
      "[108]\tTrain's binary_logloss: 0.488109\tValidate's binary_logloss: 0.554917\n",
      "[109]\tTrain's binary_logloss: 0.486997\tValidate's binary_logloss: 0.554175\n",
      "[110]\tTrain's binary_logloss: 0.485809\tValidate's binary_logloss: 0.553437\n",
      "[111]\tTrain's binary_logloss: 0.484734\tValidate's binary_logloss: 0.55273\n",
      "[112]\tTrain's binary_logloss: 0.483939\tValidate's binary_logloss: 0.552865\n",
      "[113]\tTrain's binary_logloss: 0.482791\tValidate's binary_logloss: 0.552166\n",
      "[114]\tTrain's binary_logloss: 0.481661\tValidate's binary_logloss: 0.551485\n",
      "[115]\tTrain's binary_logloss: 0.480642\tValidate's binary_logloss: 0.550829\n",
      "[116]\tTrain's binary_logloss: 0.479548\tValidate's binary_logloss: 0.550181\n",
      "[117]\tTrain's binary_logloss: 0.478772\tValidate's binary_logloss: 0.550333\n",
      "[118]\tTrain's binary_logloss: 0.478012\tValidate's binary_logloss: 0.550491\n",
      "[119]\tTrain's binary_logloss: 0.477029\tValidate's binary_logloss: 0.549871\n",
      "[120]\tTrain's binary_logloss: 0.475974\tValidate's binary_logloss: 0.54926\n",
      "[121]\tTrain's binary_logloss: 0.475024\tValidate's binary_logloss: 0.54867\n",
      "[122]\tTrain's binary_logloss: 0.474281\tValidate's binary_logloss: 0.54884\n",
      "[123]\tTrain's binary_logloss: 0.473259\tValidate's binary_logloss: 0.548263\n",
      "[124]\tTrain's binary_logloss: 0.472531\tValidate's binary_logloss: 0.548442\n",
      "[125]\tTrain's binary_logloss: 0.471616\tValidate's binary_logloss: 0.547884\n",
      "[126]\tTrain's binary_logloss: 0.471155\tValidate's binary_logloss: 0.548098\n",
      "[127]\tTrain's binary_logloss: 0.470256\tValidate's binary_logloss: 0.547556\n",
      "[128]\tTrain's binary_logloss: 0.469285\tValidate's binary_logloss: 0.547027\n",
      "[129]\tTrain's binary_logloss: 0.468329\tValidate's binary_logloss: 0.546512\n",
      "[130]\tTrain's binary_logloss: 0.467475\tValidate's binary_logloss: 0.54601\n",
      "[131]\tTrain's binary_logloss: 0.466549\tValidate's binary_logloss: 0.545522\n",
      "[132]\tTrain's binary_logloss: 0.465637\tValidate's binary_logloss: 0.545048\n",
      "[133]\tTrain's binary_logloss: 0.464934\tValidate's binary_logloss: 0.54525\n",
      "[134]\tTrain's binary_logloss: 0.464039\tValidate's binary_logloss: 0.544792\n",
      "[135]\tTrain's binary_logloss: 0.463349\tValidate's binary_logloss: 0.545\n",
      "[136]\tTrain's binary_logloss: 0.462673\tValidate's binary_logloss: 0.545213\n",
      "[137]\tTrain's binary_logloss: 0.461878\tValidate's binary_logloss: 0.544766\n",
      "[138]\tTrain's binary_logloss: 0.461451\tValidate's binary_logloss: 0.544998\n",
      "[139]\tTrain's binary_logloss: 0.460793\tValidate's binary_logloss: 0.54522\n",
      "[140]\tTrain's binary_logloss: 0.459931\tValidate's binary_logloss: 0.544795\n",
      "[141]\tTrain's binary_logloss: 0.459164\tValidate's binary_logloss: 0.544374\n",
      "[142]\tTrain's binary_logloss: 0.458752\tValidate's binary_logloss: 0.544612\n",
      "[143]\tTrain's binary_logloss: 0.457999\tValidate's binary_logloss: 0.544203\n",
      "[144]\tTrain's binary_logloss: 0.45736\tValidate's binary_logloss: 0.544437\n",
      "[145]\tTrain's binary_logloss: 0.456962\tValidate's binary_logloss: 0.544681\n",
      "[146]\tTrain's binary_logloss: 0.456223\tValidate's binary_logloss: 0.544286\n",
      "[147]\tTrain's binary_logloss: 0.455601\tValidate's binary_logloss: 0.544528\n",
      "[148]\tTrain's binary_logloss: 0.454876\tValidate's binary_logloss: 0.544145\n",
      "[149]\tTrain's binary_logloss: 0.454163\tValidate's binary_logloss: 0.543772\n",
      "[150]\tTrain's binary_logloss: 0.453779\tValidate's binary_logloss: 0.544023\n",
      "[151]\tTrain's binary_logloss: 0.452997\tValidate's binary_logloss: 0.543673\n",
      "[152]\tTrain's binary_logloss: 0.452227\tValidate's binary_logloss: 0.543334\n",
      "[153]\tTrain's binary_logloss: 0.451549\tValidate's binary_logloss: 0.542993\n",
      "[154]\tTrain's binary_logloss: 0.450883\tValidate's binary_logloss: 0.542661\n",
      "[155]\tTrain's binary_logloss: 0.450228\tValidate's binary_logloss: 0.54234\n",
      "[156]\tTrain's binary_logloss: 0.449502\tValidate's binary_logloss: 0.542041\n",
      "[157]\tTrain's binary_logloss: 0.448788\tValidate's binary_logloss: 0.541753\n",
      "[158]\tTrain's binary_logloss: 0.448185\tValidate's binary_logloss: 0.542015\n",
      "[159]\tTrain's binary_logloss: 0.447593\tValidate's binary_logloss: 0.54228\n",
      "[160]\tTrain's binary_logloss: 0.446971\tValidate's binary_logloss: 0.541988\n",
      "[161]\tTrain's binary_logloss: 0.446391\tValidate's binary_logloss: 0.542258\n",
      "[162]\tTrain's binary_logloss: 0.4457\tValidate's binary_logloss: 0.541993\n",
      "[163]\tTrain's binary_logloss: 0.445099\tValidate's binary_logloss: 0.54172\n",
      "[164]\tTrain's binary_logloss: 0.44453\tValidate's binary_logloss: 0.541996\n",
      "[165]\tTrain's binary_logloss: 0.443861\tValidate's binary_logloss: 0.541751\n",
      "[166]\tTrain's binary_logloss: 0.443203\tValidate's binary_logloss: 0.541515\n",
      "[167]\tTrain's binary_logloss: 0.442632\tValidate's binary_logloss: 0.541268\n",
      "[168]\tTrain's binary_logloss: 0.44228\tValidate's binary_logloss: 0.541533\n",
      "[169]\tTrain's binary_logloss: 0.441719\tValidate's binary_logloss: 0.541295\n",
      "[170]\tTrain's binary_logloss: 0.441167\tValidate's binary_logloss: 0.541065\n",
      "[171]\tTrain's binary_logloss: 0.440547\tValidate's binary_logloss: 0.540863\n",
      "[172]\tTrain's binary_logloss: 0.440013\tValidate's binary_logloss: 0.540648\n",
      "[173]\tTrain's binary_logloss: 0.439488\tValidate's binary_logloss: 0.54044\n",
      "[174]\tTrain's binary_logloss: 0.438933\tValidate's binary_logloss: 0.540731\n",
      "[175]\tTrain's binary_logloss: 0.43834\tValidate's binary_logloss: 0.540554\n",
      "[176]\tTrain's binary_logloss: 0.437833\tValidate's binary_logloss: 0.540362\n",
      "[177]\tTrain's binary_logloss: 0.437256\tValidate's binary_logloss: 0.5402\n",
      "[178]\tTrain's binary_logloss: 0.436713\tValidate's binary_logloss: 0.540497\n",
      "[179]\tTrain's binary_logloss: 0.436222\tValidate's binary_logloss: 0.540319\n",
      "[180]\tTrain's binary_logloss: 0.435688\tValidate's binary_logloss: 0.54062\n",
      "[181]\tTrain's binary_logloss: 0.43513\tValidate's binary_logloss: 0.540475\n",
      "[182]\tTrain's binary_logloss: 0.434802\tValidate's binary_logloss: 0.540749\n",
      "[183]\tTrain's binary_logloss: 0.434328\tValidate's binary_logloss: 0.540586\n",
      "[184]\tTrain's binary_logloss: 0.433862\tValidate's binary_logloss: 0.540429\n",
      "[185]\tTrain's binary_logloss: 0.433342\tValidate's binary_logloss: 0.540737\n",
      "[186]\tTrain's binary_logloss: 0.433024\tValidate's binary_logloss: 0.541014\n",
      "[187]\tTrain's binary_logloss: 0.432517\tValidate's binary_logloss: 0.541325\n",
      "[188]\tTrain's binary_logloss: 0.43206\tValidate's binary_logloss: 0.541176\n",
      "[189]\tTrain's binary_logloss: 0.431535\tValidate's binary_logloss: 0.541062\n",
      "[190]\tTrain's binary_logloss: 0.431019\tValidate's binary_logloss: 0.540954\n",
      "[191]\tTrain's binary_logloss: 0.430584\tValidate's binary_logloss: 0.540823\n",
      "[192]\tTrain's binary_logloss: 0.430156\tValidate's binary_logloss: 0.540698\n",
      "[193]\tTrain's binary_logloss: 0.429735\tValidate's binary_logloss: 0.540579\n",
      "[194]\tTrain's binary_logloss: 0.429321\tValidate's binary_logloss: 0.540466\n",
      "[195]\tTrain's binary_logloss: 0.428914\tValidate's binary_logloss: 0.540357\n",
      "[196]\tTrain's binary_logloss: 0.428415\tValidate's binary_logloss: 0.540679\n",
      "[197]\tTrain's binary_logloss: 0.428015\tValidate's binary_logloss: 0.540577\n",
      "[198]\tTrain's binary_logloss: 0.427621\tValidate's binary_logloss: 0.54048\n",
      "[199]\tTrain's binary_logloss: 0.427158\tValidate's binary_logloss: 0.540419\n",
      "[200]\tTrain's binary_logloss: 0.426702\tValidate's binary_logloss: 0.540364\n",
      "[201]\tTrain's binary_logloss: 0.426253\tValidate's binary_logloss: 0.540315\n",
      "[202]\tTrain's binary_logloss: 0.425763\tValidate's binary_logloss: 0.540644\n",
      "[203]\tTrain's binary_logloss: 0.425395\tValidate's binary_logloss: 0.540567\n",
      "[204]\tTrain's binary_logloss: 0.425032\tValidate's binary_logloss: 0.540495\n",
      "[205]\tTrain's binary_logloss: 0.424676\tValidate's binary_logloss: 0.540428\n",
      "[206]\tTrain's binary_logloss: 0.424326\tValidate's binary_logloss: 0.540365\n",
      "[207]\tTrain's binary_logloss: 0.423906\tValidate's binary_logloss: 0.540342\n",
      "[208]\tTrain's binary_logloss: 0.423567\tValidate's binary_logloss: 0.540287\n",
      "[209]\tTrain's binary_logloss: 0.423159\tValidate's binary_logloss: 0.540273\n",
      "[210]\tTrain's binary_logloss: 0.422757\tValidate's binary_logloss: 0.540265\n",
      "[211]\tTrain's binary_logloss: 0.422274\tValidate's binary_logloss: 0.540603\n",
      "[212]\tTrain's binary_logloss: 0.421878\tValidate's binary_logloss: 0.540578\n",
      "[213]\tTrain's binary_logloss: 0.421489\tValidate's binary_logloss: 0.540558\n",
      "[214]\tTrain's binary_logloss: 0.421013\tValidate's binary_logloss: 0.5409\n",
      "[215]\tTrain's binary_logloss: 0.420701\tValidate's binary_logloss: 0.540867\n",
      "[216]\tTrain's binary_logloss: 0.420235\tValidate's binary_logloss: 0.541211\n",
      "[217]\tTrain's binary_logloss: 0.419928\tValidate's binary_logloss: 0.541182\n",
      "[218]\tTrain's binary_logloss: 0.419626\tValidate's binary_logloss: 0.541157\n",
      "[219]\tTrain's binary_logloss: 0.41933\tValidate's binary_logloss: 0.541136\n",
      "[220]\tTrain's binary_logloss: 0.418871\tValidate's binary_logloss: 0.541484\n",
      "[221]\tTrain's binary_logloss: 0.418506\tValidate's binary_logloss: 0.541485\n",
      "[222]\tTrain's binary_logloss: 0.418146\tValidate's binary_logloss: 0.54149\n",
      "[223]\tTrain's binary_logloss: 0.417863\tValidate's binary_logloss: 0.541779\n",
      "[224]\tTrain's binary_logloss: 0.41751\tValidate's binary_logloss: 0.541789\n",
      "[225]\tTrain's binary_logloss: 0.417061\tValidate's binary_logloss: 0.542141\n",
      "[226]\tTrain's binary_logloss: 0.416713\tValidate's binary_logloss: 0.542156\n",
      "[227]\tTrain's binary_logloss: 0.41637\tValidate's binary_logloss: 0.542174\n",
      "Early stopping, best iteration is:\n",
      "[177]\tTrain's binary_logloss: 0.437256\tValidate's binary_logloss: 0.5402\n"
     ]
    }
   ],
   "source": [
    "model = lgbm.train(train_set = train_set, \n",
    "                   params = lgbm_params,\n",
    "                   num_boost_round = 1000,\n",
    "                   valid_sets = [train_set, validation_set],\n",
    "                   valid_names = ['Train', 'Validate'], \n",
    "                   evals_result = evaluation_results,\n",
    "                   verbose_eval = 1,\n",
    "                   early_stopping_rounds=50,\n",
    "                   )\n",
    "\n",
    "y_pred_proba = model.predict(X_test)\n",
    "y_pred = np.where(y_pred_proba > 0.5, 1, 0)\n",
    "# saving model\n",
    "# dump(model, 'model_lgbm.joblib')  \n",
    "# dump(evaluation_results, 'evaluation_results_lgbm.joblib')"
   ]
  },
  {
   "cell_type": "code",
   "execution_count": 40,
   "metadata": {},
   "outputs": [
    {
     "data": {
      "text/plain": [
       "{'Train': OrderedDict([('binary_logloss',\n",
       "               [0.6887644726538904,\n",
       "                0.6843179503845387,\n",
       "                0.6799645442839799,\n",
       "                0.6758529669298365,\n",
       "                0.6718270316298764,\n",
       "                0.6703235861706898,\n",
       "                0.6663952034043186,\n",
       "                0.6623962983955093,\n",
       "                0.6584785659329445,\n",
       "                0.6570470019214102,\n",
       "                0.6556447416311195,\n",
       "                0.6542710993037424,\n",
       "                0.6529254092477514,\n",
       "                0.6492831860168061,\n",
       "                0.6479766619700734,\n",
       "                0.6444194613264164,\n",
       "                0.6407888875529363,\n",
       "                0.6373724965850822,\n",
       "                0.633881495931415,\n",
       "                0.6305990610507747,\n",
       "                0.629373484935246,\n",
       "                0.6281724304510098,\n",
       "                0.6269953486462173,\n",
       "                0.623807324702521,\n",
       "                0.6205420852252272,\n",
       "                0.6194074656565591,\n",
       "                0.6163516323493408,\n",
       "                0.6133549511137927,\n",
       "                0.6122604946592806,\n",
       "                0.6093301265233594,\n",
       "                0.6063188462215814,\n",
       "                0.6052626566100526,\n",
       "                0.6023167693240832,\n",
       "                0.5995590854839502,\n",
       "                0.5968536761972819,\n",
       "                0.5958413419915354,\n",
       "                0.5930617363656329,\n",
       "                0.5920764703776867,\n",
       "                0.5894864285869127,\n",
       "                0.5885272669337017,\n",
       "                0.5858622436788258,\n",
       "                0.5833748244105483,\n",
       "                0.5824474824127079,\n",
       "                0.5811000604424125,\n",
       "                0.5785444424911322,\n",
       "                0.5761617556573935,\n",
       "                0.57382304352425,\n",
       "                0.5729449818527124,\n",
       "                0.5706550828267711,\n",
       "                0.568407169483589,\n",
       "                0.5660738502614895,\n",
       "                0.5648006494315565,\n",
       "                0.563552000354002,\n",
       "                0.562731426243623,\n",
       "                0.5604584282323319,\n",
       "                0.5583482217123239,\n",
       "                0.5562762097454709,\n",
       "                0.5541192232163479,\n",
       "                0.5520005992419966,\n",
       "                0.550038585074317,\n",
       "                0.5488546423188672,\n",
       "                0.5476933837274462,\n",
       "                0.5457767723954496,\n",
       "                0.5438943774076227,\n",
       "                0.5427636361455659,\n",
       "                0.5408008437116638,\n",
       "                0.5400692531421358,\n",
       "                0.5381452523377467,\n",
       "                0.5362548498961873,\n",
       "                0.5343973675089099,\n",
       "                0.5333139465034418,\n",
       "                0.531493349124672,\n",
       "                0.529704276771458,\n",
       "                0.527946102388154,\n",
       "                0.5262182144229262,\n",
       "                0.5246263778077537,\n",
       "                0.5235806360225821,\n",
       "                0.5225547471215302,\n",
       "                0.5208923483064724,\n",
       "                0.5193630376150448,\n",
       "                0.5183625179826242,\n",
       "                0.5173809467126149,\n",
       "                0.5167442263141812,\n",
       "                0.5157897236288731,\n",
       "                0.5141967266139523,\n",
       "                0.5127331825339942,\n",
       "                0.511801940192896,\n",
       "                0.5102644978229443,\n",
       "                0.5096646002057581,\n",
       "                0.5081562911297323,\n",
       "                0.5072555310334047,\n",
       "                0.5066772335441972,\n",
       "                0.5052994225005001,\n",
       "                0.5044253446499228,\n",
       "                0.5030739148645424,\n",
       "                0.5025185839398572,\n",
       "                0.5011927648730412,\n",
       "                0.4997906785780081,\n",
       "                0.49841206844281993,\n",
       "                0.4971531866280425,\n",
       "                0.4958188138527524,\n",
       "                0.49498014242752486,\n",
       "                0.4936706578795893,\n",
       "                0.49238292314643894,\n",
       "                0.4912099145399642,\n",
       "                0.49005679622855985,\n",
       "                0.4892405251847989,\n",
       "                0.4881090874823895,\n",
       "                0.4869967827546271,\n",
       "                0.4858090973631564,\n",
       "                0.48473404746018683,\n",
       "                0.48393865717965007,\n",
       "                0.4827906009343683,\n",
       "                0.4816613388067722,\n",
       "                0.4806415947860631,\n",
       "                0.47954762347345004,\n",
       "                0.4787723488755536,\n",
       "                0.4780116270618674,\n",
       "                0.4770293865746877,\n",
       "                0.47597356027726717,\n",
       "                0.47502394904616413,\n",
       "                0.4742805554295934,\n",
       "                0.47325937281536334,\n",
       "                0.4725309847501708,\n",
       "                0.4716159906258574,\n",
       "                0.4711546701394626,\n",
       "                0.4702564279320081,\n",
       "                0.46928505105542695,\n",
       "                0.4683293197956298,\n",
       "                0.4674752323426827,\n",
       "                0.46654877767272956,\n",
       "                0.4656371792028684,\n",
       "                0.4649339088612981,\n",
       "                0.4640385232353009,\n",
       "                0.46334920406773117,\n",
       "                0.4626728045668941,\n",
       "                0.46187786815808657,\n",
       "                0.46145078144121215,\n",
       "                0.46079282208943684,\n",
       "                0.4599305920204282,\n",
       "                0.4591640991388109,\n",
       "                0.4587520096731475,\n",
       "                0.4579993309727311,\n",
       "                0.45736018237441556,\n",
       "                0.4569615404550605,\n",
       "                0.45622339995651023,\n",
       "                0.45560141363604856,\n",
       "                0.4548764225244189,\n",
       "                0.4541634012257757,\n",
       "                0.4537791851623333,\n",
       "                0.45299681245787543,\n",
       "                0.4522268111203238,\n",
       "                0.4515494463675462,\n",
       "                0.4508832384639602,\n",
       "                0.450227997372155,\n",
       "                0.4495021833825399,\n",
       "                0.44878777234947737,\n",
       "                0.4481846997492765,\n",
       "                0.44759294924442955,\n",
       "                0.4469710755021971,\n",
       "                0.44639050427352883,\n",
       "                0.4457003065789783,\n",
       "                0.4450994078150624,\n",
       "                0.44453002340292685,\n",
       "                0.4438611290134008,\n",
       "                0.44320267653525874,\n",
       "                0.44263153241320147,\n",
       "                0.4422803000278187,\n",
       "                0.44171924442379074,\n",
       "                0.4411673841343235,\n",
       "                0.44054686729493747,\n",
       "                0.4400129429754167,\n",
       "                0.43948775959169745,\n",
       "                0.43893349451068325,\n",
       "                0.43834016928969866,\n",
       "                0.43783258754173215,\n",
       "                0.43725644422411736,\n",
       "                0.4367126419682296,\n",
       "                0.43622204328182446,\n",
       "                0.43568830971222633,\n",
       "                0.4351302672268111,\n",
       "                0.4348016393763413,\n",
       "                0.43432799865263366,\n",
       "                0.4338620993118084,\n",
       "                0.433341899356124,\n",
       "                0.43302370048353656,\n",
       "                0.43251700832203244,\n",
       "                0.4320600654781842,\n",
       "                0.4315353524095595,\n",
       "                0.43101867423857765,\n",
       "                0.4305837703132681,\n",
       "                0.4301559699328976,\n",
       "                0.4297351557876931,\n",
       "                0.429321212558054,\n",
       "                0.4289140269939139,\n",
       "                0.4284151965939673,\n",
       "                0.4280149870783218,\n",
       "                0.4276213099857128,\n",
       "                0.4271583775931939,\n",
       "                0.426702459589535,\n",
       "                0.42625344199606985,\n",
       "                0.4257630890210293,\n",
       "                0.42539478428329036,\n",
       "                0.42503249004445093,\n",
       "                0.4246761078079931,\n",
       "                0.42432554076637713,\n",
       "                0.42390612638650665,\n",
       "                0.42356690784141454,\n",
       "                0.4231590427915402,\n",
       "                0.42275729393038386,\n",
       "                0.4222739748248761,\n",
       "                0.4218783615419054,\n",
       "                0.42148870127204624,\n",
       "                0.42101337343287126,\n",
       "                0.4207014026220063,\n",
       "                0.4202346852719935,\n",
       "                0.419928011177148,\n",
       "                0.41962634515716674,\n",
       "                0.41932960574162037,\n",
       "                0.41887051397642316,\n",
       "                0.4185056626529781,\n",
       "                0.41814626375199454,\n",
       "                0.41786313843820516,\n",
       "                0.41750971704805195,\n",
       "                0.4170606946194879,\n",
       "                0.4167125548201928,\n",
       "                0.41636959856497224])]),\n",
       " 'Validate': OrderedDict([('binary_logloss',\n",
       "               [0.6892294218512415,\n",
       "                0.6852582615074765,\n",
       "                0.6813797847546617,\n",
       "                0.6777274088895193,\n",
       "                0.674158071768473,\n",
       "                0.6736587123323878,\n",
       "                0.6701847536438412,\n",
       "                0.6666580079512343,\n",
       "                0.6632119885123104,\n",
       "                0.662765632409653,\n",
       "                0.6623397997681678,\n",
       "                0.6619339128548066,\n",
       "                0.6615474116840041,\n",
       "                0.6583557210196378,\n",
       "                0.6579971781694705,\n",
       "                0.6548884568927348,\n",
       "                0.6517349196489507,\n",
       "                0.648763151743572,\n",
       "                0.645747048491393,\n",
       "                0.6429054740252625,\n",
       "                0.6426059169514631,\n",
       "                0.6423227599011037,\n",
       "                0.6420555480911525,\n",
       "                0.6393071453881536,\n",
       "                0.6365175849266945,\n",
       "                0.6362798535294107,\n",
       "                0.633660311546788,\n",
       "                0.6310977128953371,\n",
       "                0.6308881295995598,\n",
       "                0.6283899999866351,\n",
       "                0.6258520431852461,\n",
       "                0.6256685169650945,\n",
       "                0.6231963172319567,\n",
       "                0.6208662910923256,\n",
       "                0.6185864495771638,\n",
       "                0.6184331551137923,\n",
       "                0.6161248639174969,\n",
       "                0.6159889058930416,\n",
       "                0.6138216333576743,\n",
       "                0.6137027745236479,\n",
       "                0.6115089732965318,\n",
       "                0.6094412521544557,\n",
       "                0.6093432052182594,\n",
       "                0.6090588888227251,\n",
       "                0.6069751652230495,\n",
       "                0.6050102147113525,\n",
       "                0.6030872762384255,\n",
       "                0.6030240785044447,\n",
       "                0.6011482920887458,\n",
       "                0.5993125694649275,\n",
       "                0.5974461472854524,\n",
       "                0.5972261611331565,\n",
       "                0.5970209579713567,\n",
       "                0.5969991958981979,\n",
       "                0.5951962920342867,\n",
       "                0.5934959877954101,\n",
       "                0.5918320022873002,\n",
       "                0.590141781335909,\n",
       "                0.5884890120050723,\n",
       "                0.5869305641404619,\n",
       "                0.5867822008052661,\n",
       "                0.5866469601073906,\n",
       "                0.5851339086967302,\n",
       "                0.583653259763481,\n",
       "                0.5835401569722733,\n",
       "                0.5820432866704282,\n",
       "                0.5820848456403562,\n",
       "                0.5806263476456736,\n",
       "                0.5792004919705901,\n",
       "                0.5778066031472642,\n",
       "                0.5777334708456378,\n",
       "                0.5763768197509718,\n",
       "                0.5750507244357711,\n",
       "                0.5737545604176887,\n",
       "                0.5724877184936401,\n",
       "                0.571287317387328,\n",
       "                0.5712481668444254,\n",
       "                0.5712196182610124,\n",
       "                0.5700186102085761,\n",
       "                0.5688792173728116,\n",
       "                0.5688689111146642,\n",
       "                0.5688684811797149,\n",
       "                0.5689749096574019,\n",
       "                0.568989912053462,\n",
       "                0.5678599462412888,\n",
       "                0.5667856248806733,\n",
       "                0.5668170368137453,\n",
       "                0.5657415641723885,\n",
       "                0.5658711343664274,\n",
       "                0.5648240076261973,\n",
       "                0.5648769014604206,\n",
       "                0.5650185153557378,\n",
       "                0.5640272259874122,\n",
       "                0.5640963590173895,\n",
       "                0.5631304413106673,\n",
       "                0.5632855900129816,\n",
       "                0.5623437286673738,\n",
       "                0.5614009695369121,\n",
       "                0.5604805975873207,\n",
       "                0.5596013160123483,\n",
       "                0.5587230474520599,\n",
       "                0.5588228442733602,\n",
       "                0.5579692809860037,\n",
       "                0.5571363796328965,\n",
       "                0.5563379647444857,\n",
       "                0.5555578217545487,\n",
       "                0.5556759950969671,\n",
       "                0.5549165211275865,\n",
       "                0.554174576647931,\n",
       "                0.553437438505772,\n",
       "                0.5527298518498233,\n",
       "                0.5528648716699234,\n",
       "                0.5521661032027019,\n",
       "                0.5514850520862274,\n",
       "                0.5508291588736808,\n",
       "                0.5501813565134329,\n",
       "                0.550333092043107,\n",
       "                0.550490865680481,\n",
       "                0.5498706964060314,\n",
       "                0.5492604768340142,\n",
       "                0.548670083490723,\n",
       "                0.5488404087671165,\n",
       "                0.5482634953042741,\n",
       "                0.5484417725205336,\n",
       "                0.5478841841416119,\n",
       "                0.5480983904445639,\n",
       "                0.5475560728672227,\n",
       "                0.5470266786463844,\n",
       "                0.5465118317214394,\n",
       "                0.546009551143767,\n",
       "                0.5455219527320847,\n",
       "                0.5450481196607696,\n",
       "                0.5452496200898026,\n",
       "                0.5447915206567864,\n",
       "                0.5449999799305064,\n",
       "                0.5452130736149006,\n",
       "                0.5447659574753275,\n",
       "                0.5449980134843995,\n",
       "                0.5452200087693788,\n",
       "                0.5447947782696103,\n",
       "                0.5443737899123077,\n",
       "                0.5446121024654899,\n",
       "                0.5442034682248328,\n",
       "                0.5444374224390967,\n",
       "                0.5446812910246341,\n",
       "                0.5442861849256171,\n",
       "                0.5445279588820794,\n",
       "                0.5441449568994631,\n",
       "                0.5437724413949268,\n",
       "                0.5440226961922218,\n",
       "                0.5436725261105075,\n",
       "                0.5433335884908062,\n",
       "                0.5429926835736835,\n",
       "                0.5426614756385534,\n",
       "                0.542339781369468,\n",
       "                0.5420411885048724,\n",
       "                0.5417528741409657,\n",
       "                0.5420147780538414,\n",
       "                0.5422799398224505,\n",
       "                0.5419883922220318,\n",
       "                0.5422580464114076,\n",
       "                0.5419933141617888,\n",
       "                0.5417204009423215,\n",
       "                0.5419959370082696,\n",
       "                0.5417509168833211,\n",
       "                0.5415151951813613,\n",
       "                0.5412684044228888,\n",
       "                0.5415332818253261,\n",
       "                0.5412951611490158,\n",
       "                0.5410648164861994,\n",
       "                0.5408631673657308,\n",
       "                0.5406480675956423,\n",
       "                0.5404403051603301,\n",
       "                0.5407311145831292,\n",
       "                0.5405541890687675,\n",
       "                0.5403617067934113,\n",
       "                0.5401999744675818,\n",
       "                0.5404972765368001,\n",
       "                0.5403194544544959,\n",
       "                0.5406202396317417,\n",
       "                0.5404753591384555,\n",
       "                0.5407491505602039,\n",
       "                0.5405859536286184,\n",
       "                0.5404291132888629,\n",
       "                0.5407370352024773,\n",
       "                0.5410138796866503,\n",
       "                0.5413250313523353,\n",
       "                0.5411764184747727,\n",
       "                0.5410616477398859,\n",
       "                0.5409537708847085,\n",
       "                0.5408232674382376,\n",
       "                0.5406984956394035,\n",
       "                0.5405793428706221,\n",
       "                0.5404656984341819,\n",
       "                0.5403574536105558,\n",
       "                0.5406792130039317,\n",
       "                0.5405768927079524,\n",
       "                0.5404797516665155,\n",
       "                0.5404189500595254,\n",
       "                0.5403640395767596,\n",
       "                0.5403149093798207,\n",
       "                0.5406437937963208,\n",
       "                0.5405672139016977,\n",
       "                0.5404953061502046,\n",
       "                0.5404279761649249,\n",
       "                0.5403651311730112,\n",
       "                0.5403415193790106,\n",
       "                0.5402874582710349,\n",
       "                0.5402734857336163,\n",
       "                0.5402645255748563,\n",
       "                0.5406029504087163,\n",
       "                0.5405780502142381,\n",
       "                0.5405579143490753,\n",
       "                0.5408995727759499,\n",
       "                0.5408668682041421,\n",
       "                0.5412105947758683,\n",
       "                0.5411821354404158,\n",
       "                0.5411573755525975,\n",
       "                0.5411362372431318,\n",
       "                0.5414836713263567,\n",
       "                0.5414849108281368,\n",
       "                0.5414904355609076,\n",
       "                0.5417788049278662,\n",
       "                0.5417889538692915,\n",
       "                0.5421407998090152,\n",
       "                0.5421555228424176,\n",
       "                0.5421742829976834])])}"
      ]
     },
     "execution_count": 40,
     "metadata": {},
     "output_type": "execute_result"
    }
   ],
   "source": [
    "evaluation_results"
   ]
  },
  {
   "cell_type": "code",
   "execution_count": 41,
   "metadata": {},
   "outputs": [
    {
     "data": {
      "image/png": "[encoded data removed]",
      "text/plain": [
       "<Figure size 432x288 with 1 Axes>"
      ]
     },
     "metadata": {},
     "output_type": "display_data"
    }
   ],
   "source": [
    "plt.plot([index for index in range(len(evaluation_results[\"Train\"][\"binary_logloss\"]))],\n",
    "         evaluation_results[\"Train\"][\"binary_logloss\"], label=\"Train binary_logloss\")\n",
    "plt.plot([index for index in range(len(evaluation_results[\"Validate\"][\"binary_logloss\"]))],\n",
    "         evaluation_results[\"Validate\"][\"binary_logloss\"], label=\"Validate binary_logloss\")\n",
    "plt.legend();"
   ]
  },
  {
   "cell_type": "code",
   "execution_count": 42,
   "metadata": {},
   "outputs": [
    {
     "name": "stdout",
     "output_type": "stream",
     "text": [
      "Confusion Matrix:\n",
      " [[17  6]\n",
      " [14 30]] \n",
      "Accuracy: 70.15 % \n",
      "Precision: 83.33 % \n",
      "Recall: 68.18 % \n",
      "F1: 75.0 %\n"
     ]
    }
   ],
   "source": [
    "print(\"Confusion Matrix:\\n\", confusion_matrix(y_test, y_pred),\n",
    "      \"\\nAccuracy:\", round(accuracy_score(y_test, y_pred) * 100, 2), \"%\",\n",
    "      \"\\nPrecision:\", round(precision_score(y_test, y_pred) * 100, 2), \"%\",\n",
    "      \"\\nRecall:\", round(recall_score(y_test, y_pred) * 100, 2), \"%\",      \n",
    "      \"\\nF1:\", round(f1_score(y_test, y_pred) * 100, 2), \"%\")"
   ]
  },
  {
   "cell_type": "markdown",
   "metadata": {},
   "source": [
    "### CatBoost"
   ]
  },
  {
   "cell_type": "raw",
   "metadata": {},
   "source": [
    "!pip install catboost"
   ]
  },
  {
   "cell_type": "code",
   "execution_count": 43,
   "metadata": {},
   "outputs": [],
   "source": [
    "from catboost import CatBoostClassifier, Pool\n",
    "SEED=42\n",
    "#model parameters defined\n",
    "model = CatBoostClassifier(iterations=500,\n",
    "                          depth=4,\n",
    "                          loss_function='Logloss',\n",
    "                          custom_metric=['Recall','F1','Precision'],\n",
    "                          eval_metric='F1', \n",
    "                          cat_features=cat,\n",
    "                          scale_pos_weight = y_train.value_counts()[0] / y_train.value_counts()[1] ,\n",
    "                          thread_count=-1,\n",
    "                          early_stopping_rounds=50,\n",
    "                          verbose=True,\n",
    "                          random_seed=SEED,\n",
    "                          has_time=False\n",
    "                          )"
   ]
  },
  {
   "cell_type": "code",
   "execution_count": 44,
   "metadata": {
    "scrolled": true
   },
   "outputs": [
    {
     "name": "stdout",
     "output_type": "stream",
     "text": [
      "Learning rate set to 0.023635\n",
      "0:\tlearn: 0.7843137\ttest: 0.7407407\tbest: 0.7407407 (0)\ttotal: 143ms\tremaining: 1m 11s\n",
      "1:\tlearn: 0.7843137\ttest: 0.7407407\tbest: 0.7407407 (0)\ttotal: 146ms\tremaining: 36.3s\n",
      "2:\tlearn: 0.7843137\ttest: 0.7407407\tbest: 0.7407407 (0)\ttotal: 148ms\tremaining: 24.5s\n",
      "3:\tlearn: 0.7843137\ttest: 0.7407407\tbest: 0.7407407 (0)\ttotal: 151ms\tremaining: 18.7s\n",
      "4:\tlearn: 0.7843137\ttest: 0.7407407\tbest: 0.7407407 (0)\ttotal: 162ms\tremaining: 16s\n",
      "5:\tlearn: 0.7843137\ttest: 0.7407407\tbest: 0.7407407 (0)\ttotal: 164ms\tremaining: 13.5s\n",
      "6:\tlearn: 0.7843137\ttest: 0.7407407\tbest: 0.7407407 (0)\ttotal: 187ms\tremaining: 13.2s\n",
      "7:\tlearn: 0.7843137\ttest: 0.7407407\tbest: 0.7407407 (0)\ttotal: 200ms\tremaining: 12.3s\n",
      "8:\tlearn: 0.8518519\ttest: 0.7636364\tbest: 0.7636364 (8)\ttotal: 231ms\tremaining: 12.6s\n",
      "9:\tlearn: 0.8518519\ttest: 0.7636364\tbest: 0.7636364 (8)\ttotal: 255ms\tremaining: 12.5s\n",
      "10:\tlearn: 0.8518519\ttest: 0.7636364\tbest: 0.7636364 (8)\ttotal: 283ms\tremaining: 12.6s\n",
      "11:\tlearn: 0.8518519\ttest: 0.7636364\tbest: 0.7636364 (8)\ttotal: 285ms\tremaining: 11.6s\n",
      "12:\tlearn: 0.8518519\ttest: 0.7636364\tbest: 0.7636364 (8)\ttotal: 288ms\tremaining: 10.8s\n",
      "13:\tlearn: 0.8518519\ttest: 0.7636364\tbest: 0.7636364 (8)\ttotal: 290ms\tremaining: 10.1s\n",
      "14:\tlearn: 0.8518519\ttest: 0.7636364\tbest: 0.7636364 (8)\ttotal: 303ms\tremaining: 9.79s\n",
      "15:\tlearn: 0.8518519\ttest: 0.7368421\tbest: 0.7636364 (8)\ttotal: 306ms\tremaining: 9.25s\n",
      "16:\tlearn: 0.8518519\ttest: 0.7636364\tbest: 0.7636364 (8)\ttotal: 311ms\tremaining: 8.83s\n",
      "17:\tlearn: 0.8518519\ttest: 0.7636364\tbest: 0.7636364 (8)\ttotal: 322ms\tremaining: 8.62s\n",
      "18:\tlearn: 0.8518519\ttest: 0.7636364\tbest: 0.7636364 (8)\ttotal: 330ms\tremaining: 8.37s\n",
      "19:\tlearn: 0.8518519\ttest: 0.7636364\tbest: 0.7636364 (8)\ttotal: 334ms\tremaining: 8.01s\n",
      "20:\tlearn: 0.8518519\ttest: 0.7636364\tbest: 0.7636364 (8)\ttotal: 378ms\tremaining: 8.62s\n",
      "21:\tlearn: 0.8518519\ttest: 0.7636364\tbest: 0.7636364 (8)\ttotal: 380ms\tremaining: 8.25s\n",
      "22:\tlearn: 0.8518519\ttest: 0.7636364\tbest: 0.7636364 (8)\ttotal: 397ms\tremaining: 8.22s\n",
      "23:\tlearn: 0.8518519\ttest: 0.7636364\tbest: 0.7636364 (8)\ttotal: 473ms\tremaining: 9.38s\n",
      "24:\tlearn: 0.8518519\ttest: 0.7636364\tbest: 0.7636364 (8)\ttotal: 486ms\tremaining: 9.23s\n",
      "25:\tlearn: 0.8518519\ttest: 0.7636364\tbest: 0.7636364 (8)\ttotal: 500ms\tremaining: 9.12s\n",
      "26:\tlearn: 0.8518519\ttest: 0.7636364\tbest: 0.7636364 (8)\ttotal: 525ms\tremaining: 9.2s\n",
      "27:\tlearn: 0.8518519\ttest: 0.7636364\tbest: 0.7636364 (8)\ttotal: 529ms\tremaining: 8.92s\n",
      "28:\tlearn: 0.8518519\ttest: 0.7368421\tbest: 0.7636364 (8)\ttotal: 553ms\tremaining: 8.98s\n",
      "29:\tlearn: 0.8518519\ttest: 0.7368421\tbest: 0.7636364 (8)\ttotal: 621ms\tremaining: 9.73s\n",
      "30:\tlearn: 0.8518519\ttest: 0.7368421\tbest: 0.7636364 (8)\ttotal: 640ms\tremaining: 9.69s\n",
      "31:\tlearn: 0.8518519\ttest: 0.7368421\tbest: 0.7636364 (8)\ttotal: 642ms\tremaining: 9.38s\n",
      "32:\tlearn: 0.8518519\ttest: 0.7368421\tbest: 0.7636364 (8)\ttotal: 643ms\tremaining: 9.1s\n",
      "33:\tlearn: 0.8518519\ttest: 0.7368421\tbest: 0.7636364 (8)\ttotal: 648ms\tremaining: 8.89s\n",
      "34:\tlearn: 0.8518519\ttest: 0.7368421\tbest: 0.7636364 (8)\ttotal: 654ms\tremaining: 8.69s\n",
      "35:\tlearn: 0.8518519\ttest: 0.7368421\tbest: 0.7636364 (8)\ttotal: 658ms\tremaining: 8.49s\n",
      "36:\tlearn: 0.8518519\ttest: 0.7368421\tbest: 0.7636364 (8)\ttotal: 668ms\tremaining: 8.36s\n",
      "37:\tlearn: 0.8518519\ttest: 0.7368421\tbest: 0.7636364 (8)\ttotal: 701ms\tremaining: 8.52s\n",
      "38:\tlearn: 0.8518519\ttest: 0.7368421\tbest: 0.7636364 (8)\ttotal: 731ms\tremaining: 8.64s\n",
      "39:\tlearn: 0.8518519\ttest: 0.7368421\tbest: 0.7636364 (8)\ttotal: 773ms\tremaining: 8.89s\n",
      "40:\tlearn: 0.8518519\ttest: 0.7368421\tbest: 0.7636364 (8)\ttotal: 830ms\tremaining: 9.29s\n",
      "41:\tlearn: 0.8518519\ttest: 0.7368421\tbest: 0.7636364 (8)\ttotal: 840ms\tremaining: 9.16s\n",
      "42:\tlearn: 0.8518519\ttest: 0.7368421\tbest: 0.7636364 (8)\ttotal: 854ms\tremaining: 9.08s\n",
      "43:\tlearn: 0.8518519\ttest: 0.7368421\tbest: 0.7636364 (8)\ttotal: 880ms\tremaining: 9.12s\n",
      "44:\tlearn: 0.8518519\ttest: 0.7368421\tbest: 0.7636364 (8)\ttotal: 881ms\tremaining: 8.91s\n",
      "45:\tlearn: 0.8518519\ttest: 0.7368421\tbest: 0.7636364 (8)\ttotal: 883ms\tremaining: 8.71s\n",
      "46:\tlearn: 0.8518519\ttest: 0.7368421\tbest: 0.7636364 (8)\ttotal: 888ms\tremaining: 8.56s\n",
      "47:\tlearn: 0.8518519\ttest: 0.7368421\tbest: 0.7636364 (8)\ttotal: 899ms\tremaining: 8.47s\n",
      "48:\tlearn: 0.8518519\ttest: 0.7368421\tbest: 0.7636364 (8)\ttotal: 947ms\tremaining: 8.72s\n",
      "49:\tlearn: 0.8518519\ttest: 0.7368421\tbest: 0.7636364 (8)\ttotal: 961ms\tremaining: 8.65s\n",
      "50:\tlearn: 0.8518519\ttest: 0.7368421\tbest: 0.7636364 (8)\ttotal: 964ms\tremaining: 8.48s\n",
      "51:\tlearn: 0.8518519\ttest: 0.7368421\tbest: 0.7636364 (8)\ttotal: 968ms\tremaining: 8.34s\n",
      "52:\tlearn: 0.8518519\ttest: 0.7368421\tbest: 0.7636364 (8)\ttotal: 969ms\tremaining: 8.17s\n",
      "53:\tlearn: 0.8518519\ttest: 0.7368421\tbest: 0.7636364 (8)\ttotal: 972ms\tremaining: 8.03s\n",
      "54:\tlearn: 0.8518519\ttest: 0.7368421\tbest: 0.7636364 (8)\ttotal: 975ms\tremaining: 7.89s\n",
      "55:\tlearn: 0.8518519\ttest: 0.7368421\tbest: 0.7636364 (8)\ttotal: 1s\tremaining: 7.97s\n",
      "56:\tlearn: 0.8518519\ttest: 0.7368421\tbest: 0.7636364 (8)\ttotal: 1.01s\tremaining: 7.83s\n",
      "57:\tlearn: 0.8518519\ttest: 0.7368421\tbest: 0.7636364 (8)\ttotal: 1.01s\tremaining: 7.68s\n",
      "58:\tlearn: 0.8518519\ttest: 0.7368421\tbest: 0.7636364 (8)\ttotal: 1.02s\tremaining: 7.6s\n",
      "Stopped by overfitting detector  (50 iterations wait)\n",
      "\n",
      "bestTest = 0.7636363636\n",
      "bestIteration = 8\n",
      "\n",
      "Shrink model to first 9 iterations.\n"
     ]
    }
   ],
   "source": [
    "# fitting model\n",
    "model.fit(Pool(data=X_train, \n",
    "               label=y_train, \n",
    "              cat_features=cat,\n",
    "              #weight=X_train.COL_YOU_WANT_TO_WEIGHT\n",
    "              ),\n",
    "          eval_set = (X_validation, y_validation),\n",
    "          logging_level='Verbose'\n",
    "         )\n",
    "\n",
    "y_pred = model.predict(X_test)\n",
    "\n",
    "# saving model\n",
    "# dump(model, 'catboost_model.joblib')  \n",
    "# dump(model.evals_result_, 'evaluation_results_catboost.joblib')"
   ]
  },
  {
   "cell_type": "code",
   "execution_count": 45,
   "metadata": {
    "scrolled": true
   },
   "outputs": [
    {
     "name": "stdout",
     "output_type": "stream",
     "text": [
      "Confusion Matrix:\n",
      " [[20  3]\n",
      " [15 29]] \n",
      "Accuracy: 73.13 % \n",
      "Precision: 90.62 % \n",
      "Recall: 65.91 % \n",
      "F1: 76.32 %\n"
     ]
    }
   ],
   "source": [
    "print(\"Confusion Matrix:\\n\", confusion_matrix(y_test, y_pred),\n",
    "      \"\\nAccuracy:\", round(accuracy_score(y_test, y_pred) * 100, 2), \"%\",\n",
    "      \"\\nPrecision:\", round(precision_score(y_test, y_pred) * 100, 2), \"%\",\n",
    "      \"\\nRecall:\", round(recall_score(y_test, y_pred) * 100, 2), \"%\",      \n",
    "      \"\\nF1:\", round(f1_score(y_test, y_pred) * 100, 2), \"%\")"
   ]
  },
  {
   "cell_type": "markdown",
   "metadata": {},
   "source": [
    "----\n",
    "\n",
    "<a id=\"decision-tree\"></a>\n",
    "## Optional: Predicting Salary With a Decision Tree\n",
    "\n",
    "Let's first recall how we might predict salary using a single decision tree.\n",
    "\n",
    "We'll first find the best **max_depth** for a decision tree using cross-validation:"
   ]
  },
  {
   "cell_type": "code",
   "execution_count": null,
   "metadata": {},
   "outputs": [],
   "source": [
    "# Read in the data.\n",
    "path ='./data/hitters.csv'\n",
    "hitters = pd.read_csv(path)\n",
    "\n",
    "# Remove rows with missing values.\n",
    "hitters.dropna(inplace=True)\n",
    "\n",
    "# Encode categorical variables as integers.\n",
    "hitters['League'] = pd.factorize(hitters.League)[0]\n",
    "hitters['Division'] = pd.factorize(hitters.Division)[0]\n",
    "hitters['NewLeague'] = pd.factorize(hitters.NewLeague)[0]\n",
    "\n",
    "# Define features: Exclude career statistics (which start with \"C\") and the response (salary).\n",
    "feature_cols = hitters.columns[hitters.columns.str.startswith('C') == False].drop('Salary')\n",
    "feature_cols\n",
    "\n",
    "# Define X and y.\n",
    "X = hitters[feature_cols]\n",
    "y = hitters.Salary"
   ]
  },
  {
   "cell_type": "code",
   "execution_count": null,
   "metadata": {},
   "outputs": [],
   "source": [
    "# List of values to try for max_depth:\n",
    "max_depth_range = list(range(1, 21))\n",
    "\n",
    "# List to store the average RMSE for each value of max_depth:\n",
    "RMSE_scores = []\n",
    "\n",
    "# Use 10-fold cross-validation with each value of max_depth.\n",
    "from sklearn.model_selection import cross_val_score\n",
    "for depth in max_depth_range:\n",
    "    treereg = DecisionTreeRegressor(max_depth=depth, random_state=1)\n",
    "    MSE_scores = cross_val_score(treereg, X, y, cv=10, scoring='neg_mean_squared_error')\n",
    "    RMSE_scores.append(np.mean(np.sqrt(-MSE_scores)))"
   ]
  },
  {
   "cell_type": "code",
   "execution_count": null,
   "metadata": {},
   "outputs": [],
   "source": [
    "# Plot max_depth (x-axis) versus RMSE (y-axis).\n",
    "plt.plot(max_depth_range, RMSE_scores);\n",
    "plt.xlabel('max_depth');\n",
    "plt.ylabel('RMSE (lower is better)')\n",
    "plt.xlim([1, 19]);"
   ]
  },
  {
   "cell_type": "code",
   "execution_count": null,
   "metadata": {},
   "outputs": [],
   "source": [
    "# Show the best RMSE and the corresponding max_depth.\n",
    "sorted(zip(RMSE_scores, max_depth_range))[0]"
   ]
  },
  {
   "cell_type": "code",
   "execution_count": null,
   "metadata": {},
   "outputs": [],
   "source": [
    "# max_depth=2 was best, so fit a tree using that parameter.\n",
    "treereg = DecisionTreeRegressor(max_depth=2, random_state=1)\n",
    "treereg.fit(X, y)"
   ]
  },
  {
   "cell_type": "code",
   "execution_count": null,
   "metadata": {},
   "outputs": [],
   "source": [
    "# Compute feature importances.\n",
    "pd.DataFrame({'feature': feature_cols, 'importance': treereg.feature_importances_}).sort_values(\n",
    "    by='importance', ascending=False)"
   ]
  },
  {
   "cell_type": "markdown",
   "metadata": {},
   "source": [
    "<a id=\"random-forest-demo\"></a>\n",
    "## Optional: Predicting Salary With a Random Forest\n",
    "\n",
    "### Fitting a Random Forest With the Best Parameters"
   ]
  },
  {
   "cell_type": "code",
   "execution_count": null,
   "metadata": {
    "collapsed": true
   },
   "outputs": [],
   "source": [
    "from sklearn.ensemble import RandomForestRegressor"
   ]
  },
  {
   "cell_type": "code",
   "execution_count": null,
   "metadata": {},
   "outputs": [],
   "source": [
    "# max_features=5 is best and n_estimators=150 is sufficiently large.\n",
    "rfreg = RandomForestRegressor(n_estimators=150, max_features=5, oob_score=True, random_state=1)\n",
    "rfreg.fit(X, y)"
   ]
  },
  {
   "cell_type": "code",
   "execution_count": null,
   "metadata": {},
   "outputs": [],
   "source": [
    "# Compute feature importances.\n",
    "pd.DataFrame({'feature': feature_cols, 'importance': rfreg.feature_importances_}).sort_values(\n",
    "    by='importance', ascending=False)"
   ]
  },
  {
   "cell_type": "code",
   "execution_count": null,
   "metadata": {},
   "outputs": [],
   "source": [
    "# Compute the out-of-bag R-squared score.\n",
    "print((rfreg.oob_score_))\n",
    "\n",
    "# Find the average RMSE.\n",
    "scores = cross_val_score(rfreg, X, y, cv=10, scoring='neg_mean_squared_error')\n",
    "np.mean(np.sqrt(-scores))"
   ]
  },
  {
   "cell_type": "markdown",
   "metadata": {},
   "source": [
    "#### Reducing X to its Most Important Features"
   ]
  },
  {
   "cell_type": "code",
   "execution_count": null,
   "metadata": {},
   "outputs": [],
   "source": [
    "# Check the shape of X.\n",
    "X.shape"
   ]
  },
  {
   "cell_type": "markdown",
   "metadata": {},
   "source": [
    "** It important not to select features before separating your train from your test otherwise you are selecting features based on all known observations and introducing more of the information in the test data to the model when you fit it on the training data. **"
   ]
  },
  {
   "cell_type": "code",
   "execution_count": null,
   "metadata": {},
   "outputs": [],
   "source": [
    "from sklearn.model_selection import train_test_split\n",
    "X_train, X_test, y_train, y_test = train_test_split(X,y, random_state = 89)"
   ]
  },
  {
   "cell_type": "code",
   "execution_count": null,
   "metadata": {},
   "outputs": [],
   "source": [
    "# Fit the model on only the train data\n",
    "rfreg = RandomForestRegressor(n_estimators=150, max_features=5, oob_score=True, random_state=1)\n",
    "rfreg.fit(X_train, y_train)"
   ]
  },
  {
   "cell_type": "code",
   "execution_count": null,
   "metadata": {},
   "outputs": [],
   "source": [
    "# Set a threshold for which features to include.\n",
    "from sklearn.feature_selection import SelectFromModel\n",
    "\n",
    "print(SelectFromModel(rfreg, threshold='mean', prefit=True).transform(X_train).shape)\n",
    "print(SelectFromModel(rfreg, threshold='median', prefit=True).transform(X_train).shape)"
   ]
  },
  {
   "cell_type": "markdown",
   "metadata": {},
   "source": [
    "Using the fit model and the features from the train data to transform the test data"
   ]
  },
  {
   "cell_type": "code",
   "execution_count": null,
   "metadata": {},
   "outputs": [],
   "source": [
    "# Create a new feature matrix that only includes important features.\n",
    "\n",
    "X_important = SelectFromModel(rfreg, threshold='mean', prefit=True).transform(X_test)"
   ]
  },
  {
   "cell_type": "code",
   "execution_count": null,
   "metadata": {},
   "outputs": [],
   "source": [
    "# Check the RMSE for a random forest that only includes important features.\n",
    "rfreg = RandomForestRegressor(n_estimators=150, max_features=3, random_state=1)\n",
    "\n",
    "scores = cross_val_score(rfreg, X_important, y_test, cv=10, scoring='neg_mean_squared_error')\n",
    "np.mean(np.sqrt(-scores))"
   ]
  },
  {
   "cell_type": "markdown",
   "metadata": {},
   "source": [
    "In this case, the error increased slightly. Often parameter tuning is required to achieve optimal results."
   ]
  },
  {
   "cell_type": "markdown",
   "metadata": {},
   "source": [
    "<a id=\"comparing\"></a>\n",
    "## Comparing Random Forests With Decision Trees\n",
    "\n",
    "**Advantages of random forests:**\n",
    "\n",
    "- Their performance is competitive with the best supervised learning methods.\n",
    "- They provide a more reliable estimate of feature importance.\n",
    "- They allow you to estimate out-of-sample error without using train/test split or cross-validation.\n",
    "\n",
    "**Disadvantages of random forests:**\n",
    "\n",
    "- They are less interpretable.\n",
    "- They are slower to train.\n",
    "- They are slower to predict."
   ]
  },
  {
   "cell_type": "markdown",
   "metadata": {},
   "source": [
    "<a id=\"part-four\"></a>\n",
    "## Optional: Building and Tuning Decision Trees and Random Forests\n",
    "\n",
    "In this section, we will implement random forests in scikit-learn.\n",
    "\n",
    "- Major League Baseball player data from 1986-87: [data](https://github.com/justmarkham/DAT8/blob/master/data/hitters.csv), [data dictionary](https://cran.r-project.org/web/packages/ISLR/ISLR.pdf) (page 7)\n",
    "- Each observation represents a player.\n",
    "- **Goal:** Predict player salary."
   ]
  },
  {
   "cell_type": "markdown",
   "metadata": {},
   "source": [
    "### Preparing the Data"
   ]
  },
  {
   "cell_type": "code",
   "execution_count": null,
   "metadata": {},
   "outputs": [],
   "source": [
    "from sklearn.ensemble import RandomForestRegressor\n",
    "rfreg = RandomForestRegressor()\n",
    "rfreg\n",
    "\n",
    "# Read in the data.\n",
    "path ='./data/hitters.csv'\n",
    "hitters = pd.read_csv(path)\n",
    "\n",
    "# Remove rows with missing values.\n",
    "hitters.dropna(inplace=True)\n",
    "\n",
    "hitters.head()"
   ]
  },
  {
   "cell_type": "code",
   "execution_count": null,
   "metadata": {},
   "outputs": [],
   "source": [
    "# Encode categorical variables as integers.\n",
    "hitters['League'] = pd.factorize(hitters.League)[0]\n",
    "hitters['Division'] = pd.factorize(hitters.Division)[0]\n",
    "hitters['NewLeague'] = pd.factorize(hitters.NewLeague)[0]\n",
    "hitters.head()"
   ]
  },
  {
   "cell_type": "code",
   "execution_count": null,
   "metadata": {},
   "outputs": [],
   "source": [
    "# Create a scatter plot of hits vs years, colored by salary\n",
    "hitters.plot(kind='scatter', x='Years', y='Hits', c='Salary', colormap='jet', xlim=(0, 25), ylim=(0, 250));"
   ]
  },
  {
   "cell_type": "code",
   "execution_count": null,
   "metadata": {},
   "outputs": [],
   "source": [
    "# Define features: Exclude career statistics (which start with \"C\") and the response (salary).\n",
    "feature_cols = hitters.columns[hitters.columns.str.startswith('C') == False].drop('Salary')\n",
    "feature_cols"
   ]
  },
  {
   "cell_type": "code",
   "execution_count": null,
   "metadata": {
    "collapsed": true
   },
   "outputs": [],
   "source": [
    "# Define X and y.\n",
    "X = hitters[feature_cols]\n",
    "y = hitters.Salary"
   ]
  },
  {
   "cell_type": "markdown",
   "metadata": {},
   "source": [
    "### Tuning n_estimators\n",
    "\n",
    "One important tuning parameter is **n_estimators**, which represents the number of trees that should be grown. This should be a large enough value that the error seems to have \"stabilized.\""
   ]
  },
  {
   "cell_type": "code",
   "execution_count": null,
   "metadata": {
    "collapsed": true
   },
   "outputs": [],
   "source": [
    "# List of values to try for n_estimators:\n",
    "estimator_range = list(range(10, 310, 10))\n",
    "\n",
    "# List to store the average RMSE for each value of n_estimators:\n",
    "RMSE_scores = []\n",
    "\n",
    "# Use five-fold cross-validation with each value of n_estimators (Warning: Slow!).\n",
    "for estimator in estimator_range:\n",
    "    rfreg = RandomForestRegressor(n_estimators=estimator, random_state=1)\n",
    "    MSE_scores = cross_val_score(rfreg, X, y, cv=5, scoring='neg_mean_squared_error')\n",
    "    RMSE_scores.append(np.mean(np.sqrt(-MSE_scores)))"
   ]
  },
  {
   "cell_type": "code",
   "execution_count": null,
   "metadata": {},
   "outputs": [],
   "source": [
    "# Plot RMSE (y-axis) versus n_estimators (x-axis).\n",
    "\n",
    "plt.plot(estimator_range, RMSE_scores);\n",
    "\n",
    "plt.xlabel('n_estimators');\n",
    "plt.ylabel('RMSE (lower is better)');"
   ]
  },
  {
   "cell_type": "markdown",
   "metadata": {},
   "source": [
    "** In theory, the RMSE will continue to decrease and eventually level out.  Adding more estimators will neither (noticably) increase or decrease the RMSE (or other loss metric). However, introduction of noise can lead to random spikes as the n_estimators changes. This example is particularly interesting as after about 120 estimators the RMSE seems to steadily rise as more estimators are added.**"
   ]
  },
  {
   "cell_type": "markdown",
   "metadata": {},
   "source": [
    "### Tuning max_features\n",
    "\n",
    "The other important tuning parameter is **max_features**, which represents the number of features that should be considered at each split."
   ]
  },
  {
   "cell_type": "code",
   "execution_count": null,
   "metadata": {
    "collapsed": true
   },
   "outputs": [],
   "source": [
    "# List of values to try for max_features:\n",
    "feature_range = list(range(1, len(feature_cols)+1))\n",
    "\n",
    "# List to store the average RMSE for each value of max_features:\n",
    "RMSE_scores = []\n",
    "\n",
    "# Use 10-fold cross-validation with each value of max_features (Warning: Super slow!).\n",
    "for feature in feature_range:\n",
    "    rfreg = RandomForestRegressor(n_estimators=150, max_features=feature, random_state=1)\n",
    "    MSE_scores = cross_val_score(rfreg, X, y, cv=10, scoring='neg_mean_squared_error')\n",
    "    RMSE_scores.append(np.mean(np.sqrt(-MSE_scores)))"
   ]
  },
  {
   "cell_type": "code",
   "execution_count": null,
   "metadata": {},
   "outputs": [],
   "source": [
    "# Plot max_features (x-axis) versus RMSE (y-axis).\n",
    "\n",
    "plt.plot(feature_range, RMSE_scores);\n",
    "\n",
    "plt.xlabel('max_features');\n",
    "plt.ylabel('RMSE (lower is better)');"
   ]
  },
  {
   "cell_type": "code",
   "execution_count": null,
   "metadata": {},
   "outputs": [],
   "source": [
    "# Show the best RMSE and the corresponding max_features.\n",
    "sorted(zip(RMSE_scores, feature_range))[0]"
   ]
  },
  {
   "cell_type": "markdown",
   "metadata": {
    "collapsed": true
   },
   "source": [
    "<a id=\"summary\"></a>\n",
    "## Summary\n",
    "\n",
    "**Which model is best?** The best classifier for a particular task is task-dependent. In many business cases, interpretability is more important than accuracy. So, decision trees may be preferred. In other cases, accuracy on unseen data might be paramount, in which case random forests would likely be better (since they typically overfit less). \n",
    "\n",
    "**Remember that every model is a tradeoff between bias and variance. Ensemble models attempt to reduce overfitting by reducing variance but increasing bias (as compared to decision trees)**. By making the model more stable, we necessarily make it fit the training data less accurately. In some cases this is desired (particularly if we start with lots of overfitting), but for more simply structured data a simple decision tree might be best.\n",
    "\n",
    "---\n",
    "\n",
    "**In this lesson:**\n",
    "\n",
    "- We looked at ensemble models.\n",
    "\n",
    "- We saw how decision trees could be extended using two ensemble techniques -- bagging and random forests.\n",
    "\n",
    "- We looked at methods of evaluating feature importance and tuning parameters."
   ]
  },
  {
   "cell_type": "markdown",
   "metadata": {},
   "source": [
    "## GridSearch / RandomizedSearch\n",
    "\n",
    "There are several ways to tune model parameters, they are listed below.\n",
    "\n",
    "### GridSearchCV\n",
    "Searches a pre-defined feature space to find the best model. It will search every combination possible, therefore is exhaustive but slow.\n",
    "\n",
    "More information can be found under: \n",
    "- GridSearchCV: https://scikit-learn.org/stable/modules/generated/sklearn.model_selection.GridSearchCV.html\n",
    "- RandomizedSearchCV: https://scikit-learn.org/stable/modules/generated/sklearn.model_selection.RandomizedSearchCV.html\n"
   ]
  },
  {
   "cell_type": "code",
   "execution_count": null,
   "metadata": {
    "collapsed": true
   },
   "outputs": [],
   "source": [
    "from sklearn.model_selection import GridSearchCV"
   ]
  },
  {
   "cell_type": "code",
   "execution_count": null,
   "metadata": {},
   "outputs": [],
   "source": [
    "PARAM_GRID = {'n_estimators': [1, 5, 10], 'max_features': [1,2,3,4,5]}\n",
    "\n",
    "gs = GridSearchCV(estimator = RandomForestRegressor(random_state=42), param_grid=PARAM_GRID)\n",
    "\n",
    "gs.fit(X_train, y_train)\n",
    "gs.best_params_"
   ]
  },
  {
   "cell_type": "markdown",
   "metadata": {},
   "source": [
    "### RandomizedSearchCV\n",
    "Searches a pre-defined feature space based on how many iterations (`n_iter`) you ask for, e.g. if you set `n_iter=5` it will try 5 random combinations."
   ]
  },
  {
   "cell_type": "code",
   "execution_count": null,
   "metadata": {},
   "outputs": [],
   "source": [
    "from sklearn.model_selection import RandomizedSearchCV\n",
    "PARAM_GRID = {'n_estimators': [1, 5, 10], 'max_features': [1,2,3,4,5]}\n",
    "\n",
    "rs = RandomizedSearchCV(estimator = RandomForestRegressor(random_state=42), param_distributions=PARAM_GRID, n_iter=5)\n",
    "\n",
    "rs.fit(X_train, y_train)\n",
    "rs.best_params_"
   ]
  },
  {
   "cell_type": "code",
   "execution_count": null,
   "metadata": {
    "collapsed": true
   },
   "outputs": [],
   "source": []
  }
 ],
 "metadata": {
  "anaconda-cloud": {},
  "kernelspec": {
   "display_name": "Python 3",
   "language": "python",
   "name": "python3"
  },
  "language_info": {
   "codemirror_mode": {
    "name": "ipython",
    "version": 3
   },
   "file_extension": ".py",
   "mimetype": "text/x-python",
   "name": "python",
   "nbconvert_exporter": "python",
   "pygments_lexer": "ipython3",
   "version": "3.8.3"
  }
 },
 "nbformat": 4,
 "nbformat_minor": 1
}
