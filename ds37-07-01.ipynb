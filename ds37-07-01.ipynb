{
 "cells": [
  {
   "cell_type": "markdown",
   "metadata": {},
   "source": [
    "## <font color='red'> Now you try: Review\n",
    "    \n",
    "Let's try out many of the techniques we've learned over the past few lessons on a new dataset.\n",
    "\n",
    "Read in the file `us_presidential_votes_clean.csv` from the `data` directory. \n",
    "\n",
    "What does each row and column of the dataset correspond to?\n",
    "\n",
    "Use an appropriate combination of box plots, pair plots and histograms to identify which variables are normally distributed.\n",
    "\n",
    "Use your Pandas filtering skills to find out the following:\n",
    "\n",
    "* How many people in total voted from Trump?\n",
    "\n",
    "* Of these, approximately how many had a bachelors degree?\n",
    "\n",
    "* What was Trump's mean vote share in counties beginning with the letter 'A'?\n",
    "\n"
   ]
  },
  {
   "cell_type": "code",
   "execution_count": null,
   "metadata": {},
   "outputs": [],
   "source": []
  }
 ],
 "metadata": {
  "kernelspec": {
   "display_name": "Python 3",
   "language": "python",
   "name": "python3"
  },
  "language_info": {
   "codemirror_mode": {
    "name": "ipython",
    "version": 3
   },
   "file_extension": ".py",
   "mimetype": "text/x-python",
   "name": "python",
   "nbconvert_exporter": "python",
   "pygments_lexer": "ipython3",
   "version": "3.7.4"
  }
 },
 "nbformat": 4,
 "nbformat_minor": 2
}
